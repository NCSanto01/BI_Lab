{
 "cells": [
  {
   "cell_type": "code",
   "execution_count": 13,
   "id": "2cdbcef3",
   "metadata": {},
   "outputs": [],
   "source": [
    "import pandas as pd\n",
    "\n",
    "import matplotlib.pyplot as plt\n",
    "\n",
    "from sklearn.model_selection import train_test_split\n",
    "from sklearn.preprocessing import StandardScaler\n",
    "\n",
    "\n",
    "from sklearn.neural_network import MLPClassifier\n",
    "\n",
    "from sklearn.metrics import accuracy_score\n",
    "from sklearn.metrics import plot_confusion_matrix\n",
    "from sklearn.metrics import classification_report\n",
    "\n",
    "from sklearn.model_selection import GridSearchCV\n",
    "\n",
    "# Configuración warnings\n",
    "# ------------------------------------------------------------------------------\n",
    "import warnings\n",
    "#warnings.filterwarnings('once')\n",
    "warnings.filterwarnings('ignore')"
   ]
  },
  {
   "cell_type": "code",
   "execution_count": 3,
   "id": "2922dca7",
   "metadata": {},
   "outputs": [
    {
     "data": {
      "text/html": [
       "<div>\n",
       "<style scoped>\n",
       "    .dataframe tbody tr th:only-of-type {\n",
       "        vertical-align: middle;\n",
       "    }\n",
       "\n",
       "    .dataframe tbody tr th {\n",
       "        vertical-align: top;\n",
       "    }\n",
       "\n",
       "    .dataframe thead th {\n",
       "        text-align: right;\n",
       "    }\n",
       "</style>\n",
       "<table border=\"1\" class=\"dataframe\">\n",
       "  <thead>\n",
       "    <tr style=\"text-align: right;\">\n",
       "      <th></th>\n",
       "      <th>sepal.length</th>\n",
       "      <th>sepal.width</th>\n",
       "      <th>petal.length</th>\n",
       "      <th>petal.width</th>\n",
       "      <th>variety</th>\n",
       "    </tr>\n",
       "  </thead>\n",
       "  <tbody>\n",
       "    <tr>\n",
       "      <th>0</th>\n",
       "      <td>5.1</td>\n",
       "      <td>3.5</td>\n",
       "      <td>1.4</td>\n",
       "      <td>0.2</td>\n",
       "      <td>Setosa</td>\n",
       "    </tr>\n",
       "    <tr>\n",
       "      <th>1</th>\n",
       "      <td>4.9</td>\n",
       "      <td>3.0</td>\n",
       "      <td>1.4</td>\n",
       "      <td>0.2</td>\n",
       "      <td>Setosa</td>\n",
       "    </tr>\n",
       "    <tr>\n",
       "      <th>2</th>\n",
       "      <td>4.7</td>\n",
       "      <td>3.2</td>\n",
       "      <td>1.3</td>\n",
       "      <td>0.2</td>\n",
       "      <td>Setosa</td>\n",
       "    </tr>\n",
       "    <tr>\n",
       "      <th>3</th>\n",
       "      <td>4.6</td>\n",
       "      <td>3.1</td>\n",
       "      <td>1.5</td>\n",
       "      <td>0.2</td>\n",
       "      <td>Setosa</td>\n",
       "    </tr>\n",
       "    <tr>\n",
       "      <th>4</th>\n",
       "      <td>5.0</td>\n",
       "      <td>3.6</td>\n",
       "      <td>1.4</td>\n",
       "      <td>0.2</td>\n",
       "      <td>Setosa</td>\n",
       "    </tr>\n",
       "    <tr>\n",
       "      <th>...</th>\n",
       "      <td>...</td>\n",
       "      <td>...</td>\n",
       "      <td>...</td>\n",
       "      <td>...</td>\n",
       "      <td>...</td>\n",
       "    </tr>\n",
       "    <tr>\n",
       "      <th>145</th>\n",
       "      <td>6.7</td>\n",
       "      <td>3.0</td>\n",
       "      <td>5.2</td>\n",
       "      <td>2.3</td>\n",
       "      <td>Virginica</td>\n",
       "    </tr>\n",
       "    <tr>\n",
       "      <th>146</th>\n",
       "      <td>6.3</td>\n",
       "      <td>2.5</td>\n",
       "      <td>5.0</td>\n",
       "      <td>1.9</td>\n",
       "      <td>Virginica</td>\n",
       "    </tr>\n",
       "    <tr>\n",
       "      <th>147</th>\n",
       "      <td>6.5</td>\n",
       "      <td>3.0</td>\n",
       "      <td>5.2</td>\n",
       "      <td>2.0</td>\n",
       "      <td>Virginica</td>\n",
       "    </tr>\n",
       "    <tr>\n",
       "      <th>148</th>\n",
       "      <td>6.2</td>\n",
       "      <td>3.4</td>\n",
       "      <td>5.4</td>\n",
       "      <td>2.3</td>\n",
       "      <td>Virginica</td>\n",
       "    </tr>\n",
       "    <tr>\n",
       "      <th>149</th>\n",
       "      <td>5.9</td>\n",
       "      <td>3.0</td>\n",
       "      <td>5.1</td>\n",
       "      <td>1.8</td>\n",
       "      <td>Virginica</td>\n",
       "    </tr>\n",
       "  </tbody>\n",
       "</table>\n",
       "<p>150 rows × 5 columns</p>\n",
       "</div>"
      ],
      "text/plain": [
       "     sepal.length  sepal.width  petal.length  petal.width    variety\n",
       "0             5.1          3.5           1.4          0.2     Setosa\n",
       "1             4.9          3.0           1.4          0.2     Setosa\n",
       "2             4.7          3.2           1.3          0.2     Setosa\n",
       "3             4.6          3.1           1.5          0.2     Setosa\n",
       "4             5.0          3.6           1.4          0.2     Setosa\n",
       "..            ...          ...           ...          ...        ...\n",
       "145           6.7          3.0           5.2          2.3  Virginica\n",
       "146           6.3          2.5           5.0          1.9  Virginica\n",
       "147           6.5          3.0           5.2          2.0  Virginica\n",
       "148           6.2          3.4           5.4          2.3  Virginica\n",
       "149           5.9          3.0           5.1          1.8  Virginica\n",
       "\n",
       "[150 rows x 5 columns]"
      ]
     },
     "execution_count": 3,
     "metadata": {},
     "output_type": "execute_result"
    }
   ],
   "source": [
    "df = pd.read_csv('iris.csv')\n",
    "df"
   ]
  },
  {
   "cell_type": "code",
   "execution_count": 4,
   "id": "9a045b9f",
   "metadata": {},
   "outputs": [
    {
     "data": {
      "text/plain": [
       "Setosa        50\n",
       "Versicolor    50\n",
       "Virginica     50\n",
       "Name: variety, dtype: int64"
      ]
     },
     "execution_count": 4,
     "metadata": {},
     "output_type": "execute_result"
    }
   ],
   "source": [
    "df['variety'].value_counts()"
   ]
  },
  {
   "cell_type": "code",
   "execution_count": 5,
   "id": "ae1231ea",
   "metadata": {},
   "outputs": [],
   "source": [
    "# Splitting training and test datasets\n",
    "x = df.drop('variety', axis=1)\n",
    "y = df['variety']\n",
    "\n",
    "X_train, X_test, y_train, y_test = train_test_split(x, y, test_size = 0.2)"
   ]
  },
  {
   "cell_type": "code",
   "execution_count": 6,
   "id": "08ad7933",
   "metadata": {},
   "outputs": [],
   "source": [
    "# Normalization\n",
    "\n",
    "sc=StandardScaler()\n",
    "\n",
    "scaler = sc.fit(X_train)\n",
    "X_train_scaled = scaler.transform(X_train)\n",
    "X_test_scaled = scaler.transform(X_test)"
   ]
  },
  {
   "cell_type": "code",
   "execution_count": 7,
   "id": "5735c0b8",
   "metadata": {},
   "outputs": [
    {
     "data": {
      "text/plain": [
       "MLPClassifier(hidden_layer_sizes=(150, 100, 50), max_iter=300)"
      ]
     },
     "execution_count": 7,
     "metadata": {},
     "output_type": "execute_result"
    }
   ],
   "source": [
    "#Model building\n",
    "mlp_clf = MLPClassifier(hidden_layer_sizes=(150,100,50),\n",
    "                        max_iter = 300,activation = 'relu',\n",
    "                        solver = 'adam')\n",
    "\n",
    "mlp_clf.fit(X_train_scaled, y_train)"
   ]
  },
  {
   "cell_type": "code",
   "execution_count": 10,
   "id": "2e0e9996",
   "metadata": {},
   "outputs": [
    {
     "name": "stdout",
     "output_type": "stream",
     "text": [
      "Accuracy in TRAINING: 1.00\n"
     ]
    }
   ],
   "source": [
    "# Evaluation \n",
    "prediction_train= mlp_clf.predict(X_train_scaled)\n",
    "\n",
    "print('Accuracy in TRAINING: {:.2f}'.format(accuracy_score(y_train, prediction_train)))\n"
   ]
  },
  {
   "cell_type": "code",
   "execution_count": 11,
   "id": "50dd92c6",
   "metadata": {},
   "outputs": [
    {
     "name": "stdout",
     "output_type": "stream",
     "text": [
      "Accuracy in TEST: 1.00\n"
     ]
    }
   ],
   "source": [
    "# Evaluation TRST \n",
    "prediction_test= mlp_clf.predict(X_test_scaled)\n",
    "\n",
    "print('Accuracy in TEST: {:.2f}'.format(accuracy_score(y_test, prediction_test)))\n"
   ]
  },
  {
   "cell_type": "code",
   "execution_count": 14,
   "id": "1616c8a4",
   "metadata": {},
   "outputs": [
    {
     "data": {
      "image/png": "[encoded data removed]",
      "text/plain": [
       "<Figure size 432x288 with 2 Axes>"
      ]
     },
     "metadata": {
      "needs_background": "light"
     },
     "output_type": "display_data"
    }
   ],
   "source": [
    "fig = plot_confusion_matrix(mlp_clf, X_test_scaled, y_test, display_labels=mlp_clf.classes_)\n",
    "fig.figure_.suptitle(\"Confusion Matrix for Iris Dataset  TEST\")\n",
    "plt.show()"
   ]
  },
  {
   "cell_type": "code",
   "execution_count": 16,
   "id": "0281cc0d",
   "metadata": {},
   "outputs": [
    {
     "name": "stdout",
     "output_type": "stream",
     "text": [
      "              precision    recall  f1-score   support\n",
      "\n",
      "      Setosa       1.00      1.00      1.00         8\n",
      "  Versicolor       1.00      1.00      1.00         8\n",
      "   Virginica       1.00      1.00      1.00        14\n",
      "\n",
      "    accuracy                           1.00        30\n",
      "   macro avg       1.00      1.00      1.00        30\n",
      "weighted avg       1.00      1.00      1.00        30\n",
      "\n"
     ]
    }
   ],
   "source": [
    "print(classification_report(y_test, prediction_test))"
   ]
  },
  {
   "cell_type": "code",
   "execution_count": 17,
   "id": "0409d141",
   "metadata": {},
   "outputs": [
    {
     "data": {
      "image/png": "[encoded data removed]",
      "text/plain": [
       "<Figure size 432x288 with 1 Axes>"
      ]
     },
     "metadata": {
      "needs_background": "light"
     },
     "output_type": "display_data"
    }
   ],
   "source": [
    "plt.plot(mlp_clf.loss_curve_)\n",
    "plt.title(\"Loss Curve\", fontsize=14)\n",
    "plt.xlabel('Iterations')\n",
    "plt.ylabel('Cost')\n",
    "plt.show()"
   ]
  },
  {
   "cell_type": "code",
   "execution_count": 18,
   "id": "9f29c838",
   "metadata": {},
   "outputs": [],
   "source": [
    "# Not necessary  Possible overfitting. Very simple case\n",
    "\n",
    "param_grid = {\n",
    "    'hidden_layer_sizes': [(150,100,50), (120,80,40), (100,50,30)],\n",
    "    'max_iter': [50, 100, 150],\n",
    "    'activation': ['tanh', 'relu'],\n",
    "    'solver': ['sgd', 'adam'],\n",
    "    'alpha': [0.0001, 0.05],\n",
    "    'learning_rate': ['constant','adaptive'],\n",
    "}"
   ]
  },
  {
   "cell_type": "code",
   "execution_count": 20,
   "id": "5faa0fba",
   "metadata": {},
   "outputs": [
    {
     "name": "stdout",
     "output_type": "stream",
     "text": [
      "{'activation': 'tanh', 'alpha': 0.0001, 'hidden_layer_sizes': (150, 100, 50), 'learning_rate': 'constant', 'max_iter': 100, 'solver': 'adam'}\n"
     ]
    }
   ],
   "source": [
    "grid = GridSearchCV(mlp_clf, param_grid, n_jobs= -1, cv=5)\n",
    "grid.fit(X_train_scaled, y_train)\n",
    "\n",
    "print(grid.best_params_)"
   ]
  },
  {
   "cell_type": "code",
   "execution_count": 21,
   "id": "b18d345b",
   "metadata": {},
   "outputs": [],
   "source": [
    "# best model selected\n",
    "\n",
    "model_final = grid.best_estimator_\n",
    "model_final\n",
    "\n",
    "prediction_train= model_final.predict(X_train_scaled)"
   ]
  },
  {
   "cell_type": "code",
   "execution_count": 27,
   "id": "1367228d",
   "metadata": {},
   "outputs": [
    {
     "name": "stdout",
     "output_type": "stream",
     "text": [
      "weights between input and first hidden layer:\n",
      "[[-0.07033114  0.04058332 -0.10709423 -0.07699168  0.01256991  0.07737661\n",
      "  -0.12211304  0.19312948  0.16377059 -0.10218311 -0.02778391 -0.01425558\n",
      "   0.15567638 -0.06218039  0.07772426 -0.11345817 -0.05408182 -0.03934228\n",
      "  -0.13094651  0.08230956  0.12813247 -0.17673135 -0.07065211 -0.05600415\n",
      "  -0.01853279  0.079492    0.0263002   0.04217286 -0.19203382 -0.07523689\n",
      "  -0.02975118 -0.0932132  -0.0480699  -0.16591697  0.17158444 -0.01967452\n",
      "  -0.09271056 -0.14859555 -0.04162164  0.09105152  0.09587823 -0.13618921\n",
      "   0.09206103 -0.21871369 -0.0610604   0.02856863  0.07501846  0.10353625\n",
      "  -0.16552255 -0.18895869 -0.11545016 -0.02469127 -0.16402589 -0.00072662\n",
      "  -0.18717874  0.085107    0.15356635  0.08518036  0.06885244  0.10234377\n",
      "   0.02962415  0.04306249 -0.16574836 -0.05798881 -0.04617779  0.19475724\n",
      "   0.010854   -0.12026693 -0.05757857  0.00385227  0.08529616  0.12543251\n",
      "   0.06143749 -0.01522905  0.10237146 -0.13252973  0.08290385 -0.1553526\n",
      "   0.08076075  0.12175643  0.04442374 -0.04026677 -0.19863258 -0.01558677\n",
      "   0.16429939 -0.02620169 -0.12171847  0.01222153  0.14861301  0.03685141\n",
      "  -0.05790892  0.01854152 -0.1231319   0.17218582 -0.12775131 -0.2235942\n",
      "   0.15996956  0.12644573 -0.00053924  0.02108772  0.10739307  0.02313747\n",
      "  -0.16907135 -0.14222621 -0.07036452  0.11212533 -0.11778117 -0.14371427\n",
      "   0.00332665  0.18692137 -0.0631636   0.16894566  0.17891409 -0.01238159\n",
      "   0.15543727  0.07042031  0.08064791 -0.00045988 -0.19694257  0.20415478\n",
      "  -0.0948683   0.16536202  0.02622762  0.16361826  0.12701951  0.10020108\n",
      "  -0.15878306  0.10437912  0.0109278  -0.00207667 -0.18237385  0.06687204\n",
      "  -0.10087457 -0.09786292  0.14852224  0.12472462 -0.0438501   0.03969814\n",
      "  -0.06723988  0.1506461   0.06423445  0.16451076  0.08792302 -0.02480758\n",
      "   0.14444682  0.05590125  0.20102064  0.17530949  0.14838024  0.12771245]\n",
      " [ 0.10207084 -0.19005072  0.05757939 -0.12825707  0.13951812 -0.15626238\n",
      "  -0.11917139 -0.16942147 -0.06325904  0.06381909 -0.03769209  0.21408409\n",
      "  -0.04829375  0.22187252 -0.13484734  0.15826061 -0.14632639 -0.00879463\n",
      "   0.00794864 -0.00418799 -0.00250403  0.20543513  0.15008453  0.06902277\n",
      "   0.00049223  0.14748739  0.02213903  0.07848123 -0.15390095 -0.02654709\n",
      "   0.13628544 -0.0608739   0.13588601  0.12514324  0.14686702  0.03709184\n",
      "   0.19135898 -0.09547432 -0.00288689 -0.00745176 -0.13745463 -0.05440146\n",
      "  -0.08485508  0.15956634 -0.00502726 -0.1795393  -0.08141259 -0.06762881\n",
      "   0.16242103  0.12869307 -0.04519832  0.1692861   0.05086239  0.15151974\n",
      "   0.14896955  0.14115188 -0.17842494  0.12135447 -0.04706967 -0.14644949\n",
      "   0.15613346 -0.1097689  -0.16806604 -0.14499052  0.05643816  0.13935603\n",
      "  -0.08572573  0.00752308 -0.14980658 -0.1062051   0.05622852  0.13031055\n",
      "   0.14209712 -0.19766984  0.18944262  0.09834749 -0.17992053 -0.01350628\n",
      "   0.05349456 -0.15022993  0.10691262  0.1072973  -0.04120387 -0.02451175\n",
      "  -0.10216331 -0.0451588  -0.07221781  0.12585744  0.07927958 -0.17057619\n",
      "  -0.16936375  0.00716446  0.01883634  0.02883639 -0.10409191  0.00993496\n",
      "  -0.09532675  0.13850412  0.08102573  0.17362868  0.11949503  0.04153816\n",
      "   0.16968002 -0.08623908  0.00113573  0.17457423  0.0267293  -0.10935718\n",
      "   0.0027435  -0.12017333  0.01824353 -0.18557554  0.05588674  0.02833069\n",
      "  -0.1387487   0.0327581   0.10109074 -0.12163808  0.01494041 -0.14117041\n",
      "   0.17512066 -0.09969664 -0.0334729   0.02473337 -0.20210322  0.16767001\n",
      "   0.01407175 -0.15959226  0.15366433 -0.04214059  0.15225795  0.1086826\n",
      "  -0.16220928  0.18892177 -0.16507149 -0.08462393  0.08533778 -0.15045517\n",
      "  -0.03172881  0.04023038  0.00192984  0.006697   -0.06141652 -0.07470619\n",
      "  -0.10446904 -0.0150196   0.02993053 -0.0839326   0.06975836 -0.10731383]\n",
      " [ 0.06143692 -0.00597525  0.00463578  0.18281614 -0.12175249  0.19329049\n",
      "  -0.09265975 -0.02638755 -0.16251735  0.18588676 -0.11292477 -0.14478604\n",
      "  -0.14082123  0.09639341  0.22551384 -0.2347292  -0.03538525 -0.18953969\n",
      "  -0.18305975 -0.22426201 -0.13357845 -0.12200801 -0.19461156  0.08083999\n",
      "  -0.15839879  0.06599908 -0.04351379 -0.14899284  0.20943596  0.02189607\n",
      "  -0.03056079 -0.0770247   0.02673502  0.21327386  0.01832707  0.0068361\n",
      "  -0.21860478 -0.15414685  0.08081535 -0.0695697   0.07061299 -0.057588\n",
      "  -0.03704371 -0.18640579  0.1438507  -0.01069153 -0.16832081  0.00585539\n",
      "   0.01911351  0.2304509   0.06556339  0.06033944 -0.12545802 -0.17354289\n",
      "  -0.03614612  0.09268642  0.03486916 -0.23525568  0.10935447  0.01626651\n",
      "  -0.16200356 -0.12985833  0.20173749  0.21443292 -0.20530477  0.08659948\n",
      "  -0.03294817 -0.07456198 -0.16959504 -0.08826617 -0.17517585 -0.13445763\n",
      "  -0.22140996  0.18680742  0.16101456 -0.07980018  0.09159417 -0.20013602\n",
      "   0.16196891 -0.22092003 -0.03761766 -0.21859598  0.13725929  0.01755048\n",
      "  -0.00676905 -0.11633906  0.10830459 -0.09117466 -0.02740492  0.12628443\n",
      "  -0.0631285  -0.03358894  0.00549618 -0.15603849 -0.09381461 -0.05135624\n",
      "  -0.0132068  -0.21732286 -0.02401457 -0.17098318  0.08110433  0.02569432\n",
      "   0.0310536   0.04181411  0.0453014  -0.12094493  0.01233172 -0.17952202\n",
      "   0.13361479 -0.17153567 -0.13864663  0.00618434 -0.12329223 -0.12553029\n",
      "   0.05672211 -0.2271827   0.16377438 -0.00821863 -0.09149247  0.13178117\n",
      "  -0.13692602 -0.03241229  0.15509937 -0.02766407  0.01694772 -0.12268864\n",
      "  -0.08601793 -0.06362742  0.1537973  -0.07841723 -0.06526874 -0.03285214\n",
      "   0.08452367  0.09489219  0.06867519  0.112606    0.19890508 -0.05117995\n",
      "   0.06621573 -0.11633698 -0.01574189 -0.05898058  0.2261016   0.07089529\n",
      "   0.0766242  -0.22329911  0.17690941  0.08013307  0.10122092 -0.18266539]\n",
      " [-0.14968836  0.16754791 -0.05435991  0.06354281 -0.14476702 -0.05945519\n",
      "  -0.12441851 -0.07287715 -0.16356703 -0.03274553 -0.22293239 -0.07938086\n",
      "  -0.03855867 -0.18883748  0.12763898 -0.22450703  0.17140321 -0.06963865\n",
      "  -0.11514433 -0.05893579 -0.16060643  0.07085742  0.07507753  0.18551096\n",
      "   0.09905796  0.08440421  0.08185762 -0.20187503  0.0289004   0.0057378\n",
      "  -0.15463249  0.09366697  0.01270809  0.21756762  0.13683333  0.14462922\n",
      "  -0.08158186 -0.18972192  0.17969536 -0.0244029  -0.14004558 -0.14322783\n",
      "  -0.13740865 -0.13612643 -0.06021864 -0.16117081 -0.07066968 -0.16223969\n",
      "  -0.03844662  0.14219391  0.07732705 -0.10378143  0.15750457  0.00817859\n",
      "  -0.03005176  0.07526548  0.09023551  0.01394624  0.09703097  0.08214692\n",
      "  -0.03935283  0.1857724   0.02985097  0.21243942 -0.22639495 -0.11617547\n",
      "   0.0698759  -0.18965824 -0.20609716  0.18774655 -0.12204038  0.16117646\n",
      "   0.08802476 -0.11235638  0.19204531 -0.14876193  0.08897915  0.02270254\n",
      "  -0.05945533  0.07806992 -0.17897523 -0.21532971 -0.06898463 -0.11199238\n",
      "   0.15207443  0.18469745  0.10284907  0.20342888  0.08101117 -0.00433551\n",
      "   0.13736163  0.19094755 -0.09754673  0.02157106 -0.13481468  0.10444701\n",
      "  -0.06434227 -0.05381561 -0.10698124  0.00250908  0.02337332 -0.03495345\n",
      "  -0.20704318 -0.20804724 -0.15018574  0.09636574  0.10025622  0.01408289\n",
      "   0.09354657  0.02550318 -0.18954999  0.07251174 -0.11779787  0.1560805\n",
      "  -0.04514745  0.07917001 -0.00699031 -0.12602713  0.0911536   0.10638932\n",
      "  -0.1182218   0.11802279  0.05179388  0.1475462  -0.00309797  0.16263012\n",
      "  -0.00679788 -0.19203316  0.01521424 -0.00201003  0.19706644 -0.1588395\n",
      "   0.17417748  0.12511873  0.00281369 -0.05685603 -0.04632962  0.13179897\n",
      "  -0.18612102  0.06277228 -0.03577476  0.0998486  -0.08126529 -0.0565356\n",
      "  -0.11360093 -0.14344923 -0.15175671  0.01975284  0.1096913   0.1394858 ]]\n",
      "\n",
      "weights between first hidden and second hidden layer:\n",
      "[[ 0.0696339   0.09286559  0.04140348 ... -0.07346052 -0.16917318\n",
      "   0.14419203]\n",
      " [ 0.08278821  0.00318945 -0.15683294 ...  0.07451778 -0.0595439\n",
      "   0.09415701]\n",
      " [-0.15258815  0.11851331  0.02582973 ...  0.11053551 -0.09578942\n",
      "   0.08834339]\n",
      " ...\n",
      " [ 0.02369589 -0.09139219 -0.09623041 ...  0.05524824 -0.12113087\n",
      "   0.14506735]\n",
      " [-0.08285388  0.05140068  0.02670721 ... -0.05963777 -0.00389429\n",
      "   0.05103982]\n",
      " [ 0.08408881  0.01067905 -0.11456294 ...  0.01511523  0.08389549\n",
      "  -0.05234375]]\n"
     ]
    }
   ],
   "source": [
    "print(\"weights between input and first hidden layer:\")\n",
    "print(model_final.coefs_[0])\n",
    "print(\"\\nweights between first hidden and second hidden layer:\")\n",
    "print(model_final.coefs_[1])"
   ]
  },
  {
   "cell_type": "code",
   "execution_count": 22,
   "id": "37edabbb",
   "metadata": {},
   "outputs": [
    {
     "name": "stdout",
     "output_type": "stream",
     "text": [
      "Accuracy: 1.00\n"
     ]
    }
   ],
   "source": [
    "prediction_test = model_final.predict(X_test_scaled)\n",
    "\n",
    "print('Accuracy: {:.2f}'.format(accuracy_score(y_test, prediction_test)))"
   ]
  },
  {
   "cell_type": "code",
   "execution_count": 23,
   "id": "24d1c482",
   "metadata": {},
   "outputs": [
    {
     "data": {
      "image/png": "[encoded data removed]",
      "text/plain": [
       "<Figure size 432x288 with 2 Axes>"
      ]
     },
     "metadata": {
      "needs_background": "light"
     },
     "output_type": "display_data"
    }
   ],
   "source": [
    "from sklearn.metrics import plot_confusion_matrix\n",
    "\n",
    "fig = plot_confusion_matrix(model_final, X_train_scaled, y_train, display_labels=model_final.classes_)\n",
    "fig.figure_.suptitle(\"Confusion Matrix for Wine Dataset - TRAIN\")\n",
    "plt.show()"
   ]
  },
  {
   "cell_type": "code",
   "execution_count": 24,
   "id": "91f6b1c5",
   "metadata": {},
   "outputs": [
    {
     "data": {
      "image/png": "[encoded data removed]",
      "text/plain": [
       "<Figure size 432x288 with 2 Axes>"
      ]
     },
     "metadata": {
      "needs_background": "light"
     },
     "output_type": "display_data"
    }
   ],
   "source": [
    "fig = plot_confusion_matrix(model_final, X_test_scaled, y_test, display_labels=model_final.classes_)\n",
    "fig.figure_.suptitle(\"Confusion Matrix for Winequality Dataset - TEST\")\n",
    "plt.show()"
   ]
  },
  {
   "cell_type": "code",
   "execution_count": 25,
   "id": "a7086f0d",
   "metadata": {},
   "outputs": [
    {
     "name": "stdout",
     "output_type": "stream",
     "text": [
      "              precision    recall  f1-score   support\n",
      "\n",
      "      Setosa       1.00      1.00      1.00         8\n",
      "  Versicolor       1.00      1.00      1.00         8\n",
      "   Virginica       1.00      1.00      1.00        14\n",
      "\n",
      "    accuracy                           1.00        30\n",
      "   macro avg       1.00      1.00      1.00        30\n",
      "weighted avg       1.00      1.00      1.00        30\n",
      "\n"
     ]
    }
   ],
   "source": [
    "from sklearn.metrics import classification_report\n",
    "print(classification_report(y_test, prediction_test))"
   ]
  },
  {
   "cell_type": "code",
   "execution_count": 26,
   "id": "90fd85a4",
   "metadata": {},
   "outputs": [
    {
     "data": {
      "image/png": "[encoded data removed]",
      "text/plain": [
       "<Figure size 432x288 with 1 Axes>"
      ]
     },
     "metadata": {
      "needs_background": "light"
     },
     "output_type": "display_data"
    }
   ],
   "source": [
    "plt.plot(model_final.loss_curve_)\n",
    "plt.title(\"Loss Curve\", fontsize=14)\n",
    "plt.xlabel('Iterations')\n",
    "plt.ylabel('Cost')\n",
    "plt.show()"
   ]
  },
  {
   "cell_type": "code",
   "execution_count": null,
   "id": "40eb2a3a",
   "metadata": {},
   "outputs": [],
   "source": []
  }
 ],
 "metadata": {
  "kernelspec": {
   "display_name": "Python 3",
   "language": "python",
   "name": "python3"
  },
  "language_info": {
   "codemirror_mode": {
    "name": "ipython",
    "version": 3
   },
   "file_extension": ".py",
   "mimetype": "text/x-python",
   "name": "python",
   "nbconvert_exporter": "python",
   "pygments_lexer": "ipython3",
   "version": "3.8.8"
  }
 },
 "nbformat": 4,
 "nbformat_minor": 5
}
