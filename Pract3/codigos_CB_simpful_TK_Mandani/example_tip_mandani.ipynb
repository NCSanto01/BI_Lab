{
 "cells": [
  {
   "cell_type": "code",
   "execution_count": 1,
   "id": "090e02c3",
   "metadata": {},
   "outputs": [],
   "source": [
    "# Data management\n",
    "# ------------------------------------------------------------------------------\n",
    "import numpy as np\n",
    "import pandas as pd\n",
    "\n",
    "# Graphics\n",
    "# ------------------------------------------------------------------------------\n",
    "import matplotlib.pyplot as plt\n",
    "\n",
    "# Preprocessing and modelling\n",
    "# ------------------------------------------------------------------------------\n",
    "from simpful import *\n",
    "\n",
    "\n",
    "# Configuración warnings\n",
    "# ------------------------------------------------------------------------------\n",
    "import warnings\n",
    "#warnings.filterwarnings('once')\n",
    "warnings.filterwarnings('ignore')"
   ]
  },
  {
   "cell_type": "code",
   "execution_count": 2,
   "id": "152b0e1c",
   "metadata": {},
   "outputs": [
    {
     "name": "stdout",
     "output_type": "stream",
     "text": [
      "  ____  __  _  _  ____  ____  _  _  __   \n",
      " / ___)(  )( \\/ )(  _ \\(  __)/ )( \\(  ) v2.8.0 \n",
      " \\___ \\ )( / \\/ \\ ) __/ ) _) ) \\/ (/ (_/\\ \n",
      " (____/(__)\\_)(_/(__)  (__)  \\____/\\____/\n",
      "\n",
      " Created by Marco S. Nobile (m.s.nobile@tue.nl)\n",
      " and Simone Spolaor (simone.spolaor@unimib.it)\n",
      "\n"
     ]
    }
   ],
   "source": [
    "# A simple fuzzy inference system for the tipping problem\n",
    "# Create a fuzzy system object\n",
    "FS = FuzzySystem()"
   ]
  },
  {
   "cell_type": "code",
   "execution_count": 3,
   "id": "af42c538",
   "metadata": {},
   "outputs": [],
   "source": [
    "# Define fuzzy sets and linguistic variables\n",
    "S_1 = FuzzySet(function=Triangular_MF(a=0, b=0, c=5), term=\"poor\")\n",
    "S_2 = FuzzySet(function=Triangular_MF(a=0, b=5, c=10), term=\"good\")\n",
    "S_3 = FuzzySet(function=Triangular_MF(a=5, b=10, c=10), term=\"excellent\")\n",
    "FS.add_linguistic_variable(\"Service\", LinguisticVariable([S_1, S_2, S_3], concept=\"Service quality\", universe_of_discourse=[0,10]))\n",
    "\n",
    "F_1 = FuzzySet(function=Triangular_MF(a=0, b=0, c=10), term=\"rancid\")\n",
    "F_2 = FuzzySet(function=Triangular_MF(a=0, b=10, c=10), term=\"delicious\")\n",
    "FS.add_linguistic_variable(\"Food\", LinguisticVariable([F_1, F_2], concept=\"Food quality\", universe_of_discourse=[0,10]))\n"
   ]
  },
  {
   "cell_type": "code",
   "execution_count": 4,
   "id": "0f2dba26",
   "metadata": {},
   "outputs": [],
   "source": [
    "# Define output fuzzy sets and linguistic variable\n",
    "T_1 = FuzzySet(function=Triangular_MF(a=0, b=0, c=10), term=\"small\")\n",
    "T_2 = FuzzySet(function=Triangular_MF(a=0, b=10, c=20), term=\"average\")\n",
    "T_3 = FuzzySet(function=Trapezoidal_MF(a=10, b=20, c=25, d=25), term=\"generous\")\n",
    "FS.add_linguistic_variable(\"Tip\", LinguisticVariable([T_1, T_2, T_3], universe_of_discourse=[0,25]))"
   ]
  },
  {
   "cell_type": "code",
   "execution_count": 5,
   "id": "2a85e787",
   "metadata": {},
   "outputs": [],
   "source": [
    "# Define fuzzy rules\n",
    "R1 = \"IF (Service IS poor) OR (Food IS rancid) THEN (Tip IS small)\"\n",
    "R2 = \"IF (Service IS good) THEN (Tip IS average)\"\n",
    "R3 = \"IF (Service IS excellent) OR (Food IS delicious) THEN (Tip IS generous)\"\n",
    "FS.add_rules([R1, R2, R3])"
   ]
  },
  {
   "cell_type": "code",
   "execution_count": 6,
   "id": "f202661f",
   "metadata": {},
   "outputs": [],
   "source": [
    "# Set antecedents values\n",
    "FS.set_variable(\"Service\", 4)\n",
    "FS.set_variable(\"Food\", 8)"
   ]
  },
  {
   "cell_type": "code",
   "execution_count": 7,
   "id": "c0752450",
   "metadata": {},
   "outputs": [
    {
     "name": "stdout",
     "output_type": "stream",
     "text": [
      "{'Tip': 14.17223614042091}\n"
     ]
    }
   ],
   "source": [
    "# Perform Mamdani inference and print output\n",
    "print(FS.Mamdani_inference([\"Tip\"]))"
   ]
  },
  {
   "cell_type": "code",
   "execution_count": null,
   "id": "6100e9e9",
   "metadata": {},
   "outputs": [],
   "source": []
  }
 ],
 "metadata": {
  "kernelspec": {
   "display_name": "Python 3",
   "language": "python",
   "name": "python3"
  },
  "language_info": {
   "codemirror_mode": {
    "name": "ipython",
    "version": 3
   },
   "file_extension": ".py",
   "mimetype": "text/x-python",
   "name": "python",
   "nbconvert_exporter": "python",
   "pygments_lexer": "ipython3",
   "version": "3.8.8"
  }
 },
 "nbformat": 4,
 "nbformat_minor": 5
}
