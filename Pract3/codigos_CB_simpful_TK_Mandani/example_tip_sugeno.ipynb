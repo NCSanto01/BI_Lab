{
 "cells": [
  {
   "cell_type": "code",
   "execution_count": 1,
   "id": "090e02c3",
   "metadata": {},
   "outputs": [],
   "source": [
    "# Data management\n",
    "# ------------------------------------------------------------------------------\n",
    "import numpy as np\n",
    "import pandas as pd\n",
    "\n",
    "# Graphics\n",
    "# ------------------------------------------------------------------------------\n",
    "import matplotlib.pyplot as plt\n",
    "\n",
    "# Preprocessing and modelling\n",
    "# ------------------------------------------------------------------------------\n",
    "from simpful import *\n",
    "\n",
    "\n",
    "# Configuración warnings\n",
    "# ------------------------------------------------------------------------------\n",
    "import warnings\n",
    "#warnings.filterwarnings('once')\n",
    "warnings.filterwarnings('ignore')"
   ]
  },
  {
   "cell_type": "code",
   "execution_count": 2,
   "id": "152b0e1c",
   "metadata": {},
   "outputs": [
    {
     "name": "stdout",
     "output_type": "stream",
     "text": [
      "  ____  __  _  _  ____  ____  _  _  __   \n",
      " / ___)(  )( \\/ )(  _ \\(  __)/ )( \\(  ) v2.8.0 \n",
      " \\___ \\ )( / \\/ \\ ) __/ ) _) ) \\/ (/ (_/\\ \n",
      " (____/(__)\\_)(_/(__)  (__)  \\____/\\____/\n",
      "\n",
      " Created by Marco S. Nobile (m.s.nobile@tue.nl)\n",
      " and Simone Spolaor (simone.spolaor@unimib.it)\n",
      "\n"
     ]
    }
   ],
   "source": [
    "# A simple fuzzy inference system for the tipping problem\n",
    "# Create a fuzzy system object\n",
    "FS = FuzzySystem()"
   ]
  },
  {
   "cell_type": "code",
   "execution_count": 3,
   "id": "af42c538",
   "metadata": {},
   "outputs": [],
   "source": [
    "# Define fuzzy sets and linguistic variables\n",
    "S_1 = FuzzySet(points=[[0., 1.],  [5., 0.]], term=\"poor\")\n",
    "S_2 = FuzzySet(points=[[0., 0.], [5., 1.], [10., 0.]], term=\"good\")\n",
    "S_3 = FuzzySet(points=[[5., 0.],  [10., 1.]], term=\"excellent\")\n",
    "FS.add_linguistic_variable(\"Service\", LinguisticVariable([S_1, S_2, S_3], concept=\"Service quality\"))\n",
    "\n",
    "F_1 = FuzzySet(points=[[0., 1.],  [10., 0.]], term=\"rancid\")\n",
    "F_2 = FuzzySet(points=[[0., 0.],  [10., 1.]], term=\"delicious\")\n",
    "FS.add_linguistic_variable(\"Food\", LinguisticVariable([F_1, F_2], concept=\"Food quality\"))\n"
   ]
  },
  {
   "cell_type": "code",
   "execution_count": null,
   "id": "77f20eba",
   "metadata": {},
   "outputs": [],
   "source": []
  },
  {
   "cell_type": "code",
   "execution_count": 4,
   "id": "0f2dba26",
   "metadata": {},
   "outputs": [
    {
     "name": "stdout",
     "output_type": "stream",
     "text": [
      " * Detected Sugeno model type\n"
     ]
    }
   ],
   "source": [
    "# Define output crisp values\n",
    "FS.set_crisp_output_value(\"small\", 5)\n",
    "FS.set_crisp_output_value(\"average\", 15)"
   ]
  },
  {
   "cell_type": "code",
   "execution_count": 5,
   "id": "2a85e787",
   "metadata": {},
   "outputs": [],
   "source": [
    "# Define function for generous tip (food score + service score + 5%)\n",
    "FS.set_output_function(\"generous\", \"Food+Service+5\")\n",
    "\n",
    "# Define fuzzy rules\n",
    "R1 = \"IF (Service IS poor) OR (Food IS rancid) THEN (Tip IS small)\"\n",
    "R2 = \"IF (Service IS good) THEN (Tip IS average)\"\n",
    "R3 = \"IF (Service IS excellent) OR (Food IS delicious) THEN (Tip IS generous)\"\n",
    "FS.add_rules([R1, R2, R3])"
   ]
  },
  {
   "cell_type": "code",
   "execution_count": 6,
   "id": "f202661f",
   "metadata": {},
   "outputs": [],
   "source": [
    "# Define fuzzy rules\n",
    "R1 = \"IF (Service IS poor) OR (Food IS rancid) THEN (Tip IS small)\"\n",
    "R2 = \"IF (Service IS good) THEN (Tip IS average)\"\n",
    "R3 = \"IF (Service IS excellent) OR (Food IS delicious) THEN (Tip IS generous)\"\n",
    "FS.add_rules([R1, R2, R3])\n",
    "\n",
    "# Set antecedents values\n",
    "FS.set_variable(\"Service\", 4)\n",
    "FS.set_variable(\"Food\", 8)"
   ]
  },
  {
   "cell_type": "code",
   "execution_count": 7,
   "id": "c0752450",
   "metadata": {},
   "outputs": [
    {
     "name": "stdout",
     "output_type": "stream",
     "text": [
      "{'Tip': 14.77777777777778}\n"
     ]
    }
   ],
   "source": [
    "# Perform Sugeno inference and print output\n",
    "print(FS.Sugeno_inference([\"Tip\"]))"
   ]
  },
  {
   "cell_type": "code",
   "execution_count": null,
   "id": "6100e9e9",
   "metadata": {},
   "outputs": [],
   "source": []
  }
 ],
 "metadata": {
  "kernelspec": {
   "display_name": "Python 3",
   "language": "python",
   "name": "python3"
  },
  "language_info": {
   "codemirror_mode": {
    "name": "ipython",
    "version": 3
   },
   "file_extension": ".py",
   "mimetype": "text/x-python",
   "name": "python",
   "nbconvert_exporter": "python",
   "pygments_lexer": "ipython3",
   "version": "3.8.8"
  }
 },
 "nbformat": 4,
 "nbformat_minor": 5
}
