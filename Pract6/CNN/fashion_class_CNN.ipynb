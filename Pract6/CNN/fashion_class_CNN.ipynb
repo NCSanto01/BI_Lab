{
 "cells": [
  {
   "cell_type": "code",
   "execution_count": 46,
   "id": "2cdbcef3",
   "metadata": {},
   "outputs": [],
   "source": [
    "# Configuración warnings\n",
    "# ------------------------------------------------------------------------------\n",
    "import warnings\n",
    "#warnings.filterwarnings('once')\n",
    "warnings.filterwarnings('ignore')"
   ]
  },
  {
   "cell_type": "code",
   "execution_count": 1,
   "id": "2922dca7",
   "metadata": {},
   "outputs": [
    {
     "name": "stdout",
     "output_type": "stream",
     "text": [
      "Downloading data from https://storage.googleapis.com/tensorflow/tf-keras-datasets/train-labels-idx1-ubyte.gz\n",
      "32768/29515 [=================================] - 0s 2us/step\n",
      "40960/29515 [=========================================] - 0s 2us/step\n",
      "Downloading data from https://storage.googleapis.com/tensorflow/tf-keras-datasets/train-images-idx3-ubyte.gz\n",
      "26427392/26421880 [==============================] - 1s 0us/step\n",
      "26435584/26421880 [==============================] - 1s 0us/step\n",
      "Downloading data from https://storage.googleapis.com/tensorflow/tf-keras-datasets/t10k-labels-idx1-ubyte.gz\n",
      "16384/5148 [===============================================================================================] - 0s 0s/step\n",
      "Downloading data from https://storage.googleapis.com/tensorflow/tf-keras-datasets/t10k-images-idx3-ubyte.gz\n",
      "4423680/4422102 [==============================] - 0s 0us/step\n",
      "4431872/4422102 [==============================] - 0s 0us/step\n"
     ]
    }
   ],
   "source": [
    "# Loading dataset fashion_mnist\n",
    "#Fashion-MNIST is a Zalando item image dataset consisting of a training set of 60,000 examples and a test set of 10,000 examples.\n",
    "# Each example is a 28x28 grayscale image, associated with a 10-class label.\n",
    "\n",
    "from keras.datasets import fashion_mnist\n",
    "(train_X,train_Y), (test_X,test_Y) = fashion_mnist.load_data()\n"
   ]
  },
  {
   "cell_type": "code",
   "execution_count": 4,
   "id": "9a045b9f",
   "metadata": {
    "scrolled": true
   },
   "outputs": [
    {
     "name": "stdout",
     "output_type": "stream",
     "text": [
      "Training data shape :  (60000, 28, 28) (60000,)\n",
      "Testing data shape :  (10000, 28, 28) (10000,)\n"
     ]
    }
   ],
   "source": [
    "# analyzing the dataset\n",
    "import numpy as np\n",
    "from tensorflow.keras.utils import to_categorical\n",
    "import matplotlib.pyplot as plt\n",
    "%matplotlib inline\n",
    "\n",
    "print('Training data shape : ', train_X.shape, train_Y.shape)\n",
    "\n",
    "print('Testing data shape : ', test_X.shape, test_Y.shape)\n"
   ]
  },
  {
   "cell_type": "code",
   "execution_count": 5,
   "id": "ae1231ea",
   "metadata": {},
   "outputs": [
    {
     "name": "stdout",
     "output_type": "stream",
     "text": [
      "Total number of outputs :  10\n",
      "Output classes :  [0 1 2 3 4 5 6 7 8 9]\n"
     ]
    }
   ],
   "source": [
    "# Find the unique numbers from the train labels\n",
    "classes = np.unique(train_Y)\n",
    "nClasses = len(classes)\n",
    "print('Total number of outputs : ', nClasses)\n",
    "print('Output classes : ', classes)\n"
   ]
  },
  {
   "cell_type": "code",
   "execution_count": 6,
   "id": "08ad7933",
   "metadata": {},
   "outputs": [
    {
     "data": {
      "text/plain": [
       "Text(0.5, 1.0, 'Ground Truth : 9')"
      ]
     },
     "execution_count": 6,
     "metadata": {},
     "output_type": "execute_result"
    },
    {
     "data": {
      "image/png": "[encoded data removed]",
      "text/plain": [
       "<Figure size 360x360 with 2 Axes>"
      ]
     },
     "metadata": {
      "needs_background": "light"
     },
     "output_type": "display_data"
    }
   ],
   "source": [
    "# Showing a couple of images\n",
    "\n",
    "plt.figure(figsize=[5,5])\n",
    "\n",
    "# Display the first image in training data\n",
    "plt.subplot(121)\n",
    "plt.imshow(train_X[0,:,:], cmap='gray')\n",
    "plt.title(\"Ground Truth : {}\".format(train_Y[0]))\n",
    "\n",
    "# Display the first image in testing data\n",
    "plt.subplot(122)\n",
    "plt.imshow(test_X[0,:,:], cmap='gray')\n",
    "plt.title(\"Ground Truth : {}\".format(test_Y[0]))\n"
   ]
  },
  {
   "cell_type": "code",
   "execution_count": 8,
   "id": "5735c0b8",
   "metadata": {},
   "outputs": [
    {
     "data": {
      "text/plain": [
       "((60000, 28, 28, 1), (10000, 28, 28, 1))"
      ]
     },
     "execution_count": 8,
     "metadata": {},
     "output_type": "execute_result"
    }
   ],
   "source": [
    "# As a first step, convert each 28 x 28 image of the train and test set into a matrix of size 28 x 28 x 1 \n",
    "# which is fed into the network.\n",
    "train_X = train_X.reshape(-1, 28,28, 1)\n",
    "test_X = test_X.reshape(-1, 28,28, 1)\n",
    "train_X.shape, test_X.shape\n",
    "\n"
   ]
  },
  {
   "cell_type": "code",
   "execution_count": 9,
   "id": "2e0e9996",
   "metadata": {},
   "outputs": [],
   "source": [
    "# The data right now is in an int8 format, so before you feed it into the network you need to convert its type to float32, \n",
    "# and you also have to rescale the pixel values in range 0 - 1 inclusive. \n",
    "# gray scale of 8 digits  = 256 gray level\n",
    "\n",
    "\n",
    "train_X = train_X.astype('float32')\n",
    "test_X = test_X.astype('float32')\n",
    "train_X = train_X / 255.\n",
    "test_X = test_X / 255.\n",
    "\n"
   ]
  },
  {
   "cell_type": "code",
   "execution_count": 10,
   "id": "50dd92c6",
   "metadata": {},
   "outputs": [
    {
     "name": "stdout",
     "output_type": "stream",
     "text": [
      "Original label: 9\n",
      "After conversion to one-hot: [0. 0. 0. 0. 0. 0. 0. 0. 0. 1.]\n"
     ]
    }
   ],
   "source": [
    "# Change the labels from categorical to one-hot encoding\n",
    "train_Y_one_hot = to_categorical(train_Y)\n",
    "test_Y_one_hot = to_categorical(test_Y)\n",
    "\n",
    "# Display the change for category label using one-hot encoding\n",
    "print('Original label:', train_Y[0])\n",
    "print('After conversion to one-hot:', train_Y_one_hot[0])\n"
   ]
  },
  {
   "cell_type": "code",
   "execution_count": 11,
   "id": "1616c8a4",
   "metadata": {},
   "outputs": [],
   "source": [
    "from sklearn.model_selection import train_test_split\n",
    "train_X,valid_X,train_label,valid_label = train_test_split(train_X, train_Y_one_hot, test_size=0.2, random_state=13)\n"
   ]
  },
  {
   "cell_type": "code",
   "execution_count": 12,
   "id": "0281cc0d",
   "metadata": {},
   "outputs": [
    {
     "data": {
      "text/plain": [
       "((48000, 28, 28, 1), (12000, 28, 28, 1), (48000, 10), (12000, 10))"
      ]
     },
     "execution_count": 12,
     "metadata": {},
     "output_type": "execute_result"
    }
   ],
   "source": [
    "train_X.shape,valid_X.shape,train_label.shape,valid_label.shape\n"
   ]
  },
  {
   "cell_type": "code",
   "execution_count": 20,
   "id": "0409d141",
   "metadata": {},
   "outputs": [],
   "source": [
    "import keras\n",
    "import tensorflow as tf\n",
    "from keras.models import Sequential,Input,Model\n",
    "from keras.layers import Dense, Dropout, Flatten\n",
    "from keras.layers import Conv2D, MaxPooling2D\n",
    "from tensorflow.keras.layers import BatchNormalization\n",
    "from keras.layers.advanced_activations import LeakyReLU\n"
   ]
  },
  {
   "cell_type": "code",
   "execution_count": 15,
   "id": "9f29c838",
   "metadata": {},
   "outputs": [],
   "source": [
    "batch_size = 64\n",
    "epochs = 20\n",
    "num_classes = 10\n"
   ]
  },
  {
   "attachments": {
    "image.png": {
     "image/png": "[encoded data removed]"
    }
   },
   "cell_type": "markdown",
   "id": "51663da6",
   "metadata": {},
   "source": [
    "Architecture of the CNN\n",
    "\n",
    "![image.png](attachment:image.png)"
   ]
  },
  {
   "cell_type": "code",
   "execution_count": 16,
   "id": "5faa0fba",
   "metadata": {},
   "outputs": [],
   "source": [
    "fashion_model = Sequential()\n",
    "fashion_model.add(Conv2D(32, kernel_size=(3, 3),activation='linear',input_shape=(28,28,1),padding='same'))\n",
    "fashion_model.add(LeakyReLU(alpha=0.1))\n",
    "fashion_model.add(MaxPooling2D((2, 2),padding='same'))\n",
    "fashion_model.add(Conv2D(64, (3, 3), activation='linear',padding='same'))\n",
    "fashion_model.add(LeakyReLU(alpha=0.1))\n",
    "fashion_model.add(MaxPooling2D(pool_size=(2, 2),padding='same'))\n",
    "fashion_model.add(Conv2D(128, (3, 3), activation='linear',padding='same'))\n",
    "fashion_model.add(LeakyReLU(alpha=0.1))                  \n",
    "fashion_model.add(MaxPooling2D(pool_size=(2, 2),padding='same'))\n",
    "fashion_model.add(Flatten())\n",
    "fashion_model.add(Dense(128, activation='linear'))\n",
    "fashion_model.add(LeakyReLU(alpha=0.1))                  \n",
    "fashion_model.add(Dense(num_classes, activation='softmax'))\n",
    "\n"
   ]
  },
  {
   "cell_type": "code",
   "execution_count": 21,
   "id": "b18d345b",
   "metadata": {},
   "outputs": [],
   "source": [
    "# Building the model with Adam optimizer\n",
    "\n",
    "fashion_model.compile(loss=keras.losses.categorical_crossentropy, optimizer=tf.keras.optimizers.Adam(),metrics=['accuracy'])\n"
   ]
  },
  {
   "cell_type": "code",
   "execution_count": 22,
   "id": "1367228d",
   "metadata": {},
   "outputs": [
    {
     "name": "stdout",
     "output_type": "stream",
     "text": [
      "Model: \"sequential\"\n",
      "_________________________________________________________________\n",
      "Layer (type)                 Output Shape              Param #   \n",
      "=================================================================\n",
      "conv2d (Conv2D)              (None, 28, 28, 32)        320       \n",
      "_________________________________________________________________\n",
      "leaky_re_lu (LeakyReLU)      (None, 28, 28, 32)        0         \n",
      "_________________________________________________________________\n",
      "max_pooling2d (MaxPooling2D) (None, 14, 14, 32)        0         \n",
      "_________________________________________________________________\n",
      "conv2d_1 (Conv2D)            (None, 14, 14, 64)        18496     \n",
      "_________________________________________________________________\n",
      "leaky_re_lu_1 (LeakyReLU)    (None, 14, 14, 64)        0         \n",
      "_________________________________________________________________\n",
      "max_pooling2d_1 (MaxPooling2 (None, 7, 7, 64)          0         \n",
      "_________________________________________________________________\n",
      "conv2d_2 (Conv2D)            (None, 7, 7, 128)         73856     \n",
      "_________________________________________________________________\n",
      "leaky_re_lu_2 (LeakyReLU)    (None, 7, 7, 128)         0         \n",
      "_________________________________________________________________\n",
      "max_pooling2d_2 (MaxPooling2 (None, 4, 4, 128)         0         \n",
      "_________________________________________________________________\n",
      "flatten (Flatten)            (None, 2048)              0         \n",
      "_________________________________________________________________\n",
      "dense (Dense)                (None, 128)               262272    \n",
      "_________________________________________________________________\n",
      "leaky_re_lu_3 (LeakyReLU)    (None, 128)               0         \n",
      "_________________________________________________________________\n",
      "dense_1 (Dense)              (None, 10)                1290      \n",
      "=================================================================\n",
      "Total params: 356,234\n",
      "Trainable params: 356,234\n",
      "Non-trainable params: 0\n",
      "_________________________________________________________________\n"
     ]
    }
   ],
   "source": [
    "# Model \n",
    "fashion_model.summary()\n"
   ]
  },
  {
   "cell_type": "code",
   "execution_count": 23,
   "id": "37edabbb",
   "metadata": {},
   "outputs": [
    {
     "name": "stdout",
     "output_type": "stream",
     "text": [
      "Epoch 1/20\n",
      "750/750 [==============================] - 20s 22ms/step - loss: 0.4715 - accuracy: 0.8274 - val_loss: 0.4230 - val_accuracy: 0.8499\n",
      "Epoch 2/20\n",
      "750/750 [==============================] - 16s 22ms/step - loss: 0.2915 - accuracy: 0.8932 - val_loss: 0.2804 - val_accuracy: 0.8976\n",
      "Epoch 3/20\n",
      "750/750 [==============================] - 16s 22ms/step - loss: 0.2443 - accuracy: 0.9099 - val_loss: 0.2529 - val_accuracy: 0.9087\n",
      "Epoch 4/20\n",
      "750/750 [==============================] - 17s 23ms/step - loss: 0.2130 - accuracy: 0.9217 - val_loss: 0.2465 - val_accuracy: 0.9117\n",
      "Epoch 5/20\n",
      "750/750 [==============================] - 16s 21ms/step - loss: 0.1896 - accuracy: 0.9302 - val_loss: 0.2226 - val_accuracy: 0.9191\n",
      "Epoch 6/20\n",
      "750/750 [==============================] - 16s 22ms/step - loss: 0.1637 - accuracy: 0.9382 - val_loss: 0.2236 - val_accuracy: 0.9209\n",
      "Epoch 7/20\n",
      "750/750 [==============================] - 16s 21ms/step - loss: 0.1445 - accuracy: 0.9464 - val_loss: 0.2366 - val_accuracy: 0.9143\n",
      "Epoch 8/20\n",
      "750/750 [==============================] - 17s 23ms/step - loss: 0.1255 - accuracy: 0.9525 - val_loss: 0.2540 - val_accuracy: 0.9195\n",
      "Epoch 9/20\n",
      "750/750 [==============================] - 18s 23ms/step - loss: 0.1040 - accuracy: 0.9608 - val_loss: 0.2651 - val_accuracy: 0.9203\n",
      "Epoch 10/20\n",
      "750/750 [==============================] - 17s 23ms/step - loss: 0.0893 - accuracy: 0.9667 - val_loss: 0.2864 - val_accuracy: 0.9185\n",
      "Epoch 11/20\n",
      "750/750 [==============================] - 17s 23ms/step - loss: 0.0778 - accuracy: 0.9713 - val_loss: 0.2899 - val_accuracy: 0.9186\n",
      "Epoch 12/20\n",
      "750/750 [==============================] - 16s 22ms/step - loss: 0.0659 - accuracy: 0.9747 - val_loss: 0.3141 - val_accuracy: 0.9209\n",
      "Epoch 13/20\n",
      "750/750 [==============================] - 17s 22ms/step - loss: 0.0572 - accuracy: 0.9787 - val_loss: 0.3159 - val_accuracy: 0.9227\n",
      "Epoch 14/20\n",
      "750/750 [==============================] - 18s 24ms/step - loss: 0.0496 - accuracy: 0.9818 - val_loss: 0.3305 - val_accuracy: 0.9241\n",
      "Epoch 15/20\n",
      "750/750 [==============================] - 16s 22ms/step - loss: 0.0466 - accuracy: 0.9830 - val_loss: 0.3830 - val_accuracy: 0.9202\n",
      "Epoch 16/20\n",
      "750/750 [==============================] - 16s 22ms/step - loss: 0.0386 - accuracy: 0.9860 - val_loss: 0.3941 - val_accuracy: 0.9132\n",
      "Epoch 17/20\n",
      "750/750 [==============================] - 16s 22ms/step - loss: 0.0374 - accuracy: 0.9860 - val_loss: 0.3929 - val_accuracy: 0.9212\n",
      "Epoch 18/20\n",
      "750/750 [==============================] - 17s 23ms/step - loss: 0.0295 - accuracy: 0.9889 - val_loss: 0.3963 - val_accuracy: 0.9235\n",
      "Epoch 19/20\n",
      "750/750 [==============================] - 19s 25ms/step - loss: 0.0322 - accuracy: 0.9884 - val_loss: 0.4210 - val_accuracy: 0.9174\n",
      "Epoch 20/20\n",
      "750/750 [==============================] - 16s 22ms/step - loss: 0.0323 - accuracy: 0.9884 - val_loss: 0.4903 - val_accuracy: 0.9129\n"
     ]
    }
   ],
   "source": [
    "# training the model\n",
    "fashion_train = fashion_model.fit(train_X, train_label, batch_size=batch_size,epochs=epochs,verbose=1,validation_data=(valid_X, valid_label))\n"
   ]
  },
  {
   "cell_type": "code",
   "execution_count": 24,
   "id": "24d1c482",
   "metadata": {},
   "outputs": [],
   "source": [
    "# Evaluation with test dataset\n",
    "test_eval = fashion_model.evaluate(test_X, test_Y_one_hot, verbose=0)\n"
   ]
  },
  {
   "cell_type": "code",
   "execution_count": 25,
   "id": "91f6b1c5",
   "metadata": {},
   "outputs": [
    {
     "name": "stdout",
     "output_type": "stream",
     "text": [
      "Test loss: 0.5286841988563538\n",
      "Test accuracy: 0.9079999923706055\n"
     ]
    }
   ],
   "source": [
    "print('Test loss:', test_eval[0])\n",
    "print('Test accuracy:', test_eval[1])\n"
   ]
  },
  {
   "cell_type": "code",
   "execution_count": 47,
   "id": "a25d3685",
   "metadata": {},
   "outputs": [],
   "source": [
    "# Test loss is high"
   ]
  },
  {
   "cell_type": "code",
   "execution_count": 29,
   "id": "a7086f0d",
   "metadata": {},
   "outputs": [
    {
     "data": {
      "image/png": "[encoded data removed]",
      "text/plain": [
       "<Figure size 432x288 with 1 Axes>"
      ]
     },
     "metadata": {
      "needs_background": "light"
     },
     "output_type": "display_data"
    },
    {
     "data": {
      "image/png": "[encoded data removed]",
      "text/plain": [
       "<Figure size 432x288 with 1 Axes>"
      ]
     },
     "metadata": {
      "needs_background": "light"
     },
     "output_type": "display_data"
    }
   ],
   "source": [
    "# Curves of training and test\n",
    "\n",
    "accuracy = fashion_train.history['accuracy']\n",
    "val_accuracy = fashion_train.history['val_accuracy']\n",
    "loss = fashion_train.history['loss']\n",
    "val_loss = fashion_train.history['val_loss']\n",
    "epochs = range(len(accuracy))\n",
    "plt.plot(epochs, accuracy, 'bo', label='Training accuracy')\n",
    "plt.plot(epochs, val_accuracy, 'b', label='Validation accuracy')\n",
    "plt.title('Training and validation accuracy')\n",
    "plt.legend()\n",
    "plt.figure()\n",
    "plt.plot(epochs, loss, 'bo', label='Training loss')\n",
    "plt.plot(epochs, val_loss, 'b', label='Validation loss')\n",
    "plt.title('Training and validation loss')\n",
    "plt.legend()\n",
    "plt.show()\n"
   ]
  },
  {
   "cell_type": "code",
   "execution_count": 30,
   "id": "90fd85a4",
   "metadata": {},
   "outputs": [],
   "source": [
    "# Adding Dropout into the Network for preventing overfitting\n",
    "# Dropout randomly turns off a fraction of neurons during the \n",
    "# training process, reducing the dependency on the training set by some amount.\n",
    "batch_size = 64\n",
    "epochs = 20\n",
    "num_classes = 10\n"
   ]
  },
  {
   "cell_type": "code",
   "execution_count": 31,
   "id": "40eb2a3a",
   "metadata": {},
   "outputs": [],
   "source": [
    "# New model with dropout\n",
    "\n",
    "fashion_model = Sequential()\n",
    "fashion_model.add(Conv2D(32, kernel_size=(3, 3),activation='linear',padding='same',input_shape=(28,28,1)))\n",
    "fashion_model.add(LeakyReLU(alpha=0.1))\n",
    "fashion_model.add(MaxPooling2D((2, 2),padding='same'))\n",
    "fashion_model.add(Dropout(0.25))\n",
    "fashion_model.add(Conv2D(64, (3, 3), activation='linear',padding='same'))\n",
    "fashion_model.add(LeakyReLU(alpha=0.1))\n",
    "fashion_model.add(MaxPooling2D(pool_size=(2, 2),padding='same'))\n",
    "fashion_model.add(Dropout(0.25))\n",
    "fashion_model.add(Conv2D(128, (3, 3), activation='linear',padding='same'))\n",
    "fashion_model.add(LeakyReLU(alpha=0.1))                  \n",
    "fashion_model.add(MaxPooling2D(pool_size=(2, 2),padding='same'))\n",
    "fashion_model.add(Dropout(0.4))\n",
    "fashion_model.add(Flatten())\n",
    "fashion_model.add(Dense(128, activation='linear'))\n",
    "fashion_model.add(LeakyReLU(alpha=0.1))           \n",
    "fashion_model.add(Dropout(0.3))\n",
    "fashion_model.add(Dense(num_classes, activation='softmax'))\n"
   ]
  },
  {
   "cell_type": "code",
   "execution_count": 32,
   "id": "b998fdae",
   "metadata": {},
   "outputs": [
    {
     "name": "stdout",
     "output_type": "stream",
     "text": [
      "Model: \"sequential_1\"\n",
      "_________________________________________________________________\n",
      "Layer (type)                 Output Shape              Param #   \n",
      "=================================================================\n",
      "conv2d_3 (Conv2D)            (None, 28, 28, 32)        320       \n",
      "_________________________________________________________________\n",
      "leaky_re_lu_4 (LeakyReLU)    (None, 28, 28, 32)        0         \n",
      "_________________________________________________________________\n",
      "max_pooling2d_3 (MaxPooling2 (None, 14, 14, 32)        0         \n",
      "_________________________________________________________________\n",
      "dropout (Dropout)            (None, 14, 14, 32)        0         \n",
      "_________________________________________________________________\n",
      "conv2d_4 (Conv2D)            (None, 14, 14, 64)        18496     \n",
      "_________________________________________________________________\n",
      "leaky_re_lu_5 (LeakyReLU)    (None, 14, 14, 64)        0         \n",
      "_________________________________________________________________\n",
      "max_pooling2d_4 (MaxPooling2 (None, 7, 7, 64)          0         \n",
      "_________________________________________________________________\n",
      "dropout_1 (Dropout)          (None, 7, 7, 64)          0         \n",
      "_________________________________________________________________\n",
      "conv2d_5 (Conv2D)            (None, 7, 7, 128)         73856     \n",
      "_________________________________________________________________\n",
      "leaky_re_lu_6 (LeakyReLU)    (None, 7, 7, 128)         0         \n",
      "_________________________________________________________________\n",
      "max_pooling2d_5 (MaxPooling2 (None, 4, 4, 128)         0         \n",
      "_________________________________________________________________\n",
      "dropout_2 (Dropout)          (None, 4, 4, 128)         0         \n",
      "_________________________________________________________________\n",
      "flatten_1 (Flatten)          (None, 2048)              0         \n",
      "_________________________________________________________________\n",
      "dense_2 (Dense)              (None, 128)               262272    \n",
      "_________________________________________________________________\n",
      "leaky_re_lu_7 (LeakyReLU)    (None, 128)               0         \n",
      "_________________________________________________________________\n",
      "dropout_3 (Dropout)          (None, 128)               0         \n",
      "_________________________________________________________________\n",
      "dense_3 (Dense)              (None, 10)                1290      \n",
      "=================================================================\n",
      "Total params: 356,234\n",
      "Trainable params: 356,234\n",
      "Non-trainable params: 0\n",
      "_________________________________________________________________\n"
     ]
    }
   ],
   "source": [
    "fashion_model.summary()\n"
   ]
  },
  {
   "cell_type": "code",
   "execution_count": 33,
   "id": "79c39894",
   "metadata": {},
   "outputs": [],
   "source": [
    "fashion_model.compile(loss=keras.losses.categorical_crossentropy, optimizer=tf.keras.optimizers.Adam(),metrics=['accuracy'])\n"
   ]
  },
  {
   "cell_type": "code",
   "execution_count": 34,
   "id": "05d86971",
   "metadata": {},
   "outputs": [
    {
     "name": "stdout",
     "output_type": "stream",
     "text": [
      "Epoch 1/20\n",
      "750/750 [==============================] - 20s 26ms/step - loss: 0.5894 - accuracy: 0.7823 - val_loss: 0.3827 - val_accuracy: 0.8613\n",
      "Epoch 2/20\n",
      "750/750 [==============================] - 19s 26ms/step - loss: 0.3709 - accuracy: 0.8638 - val_loss: 0.2981 - val_accuracy: 0.8888\n",
      "Epoch 3/20\n",
      "750/750 [==============================] - 20s 27ms/step - loss: 0.3228 - accuracy: 0.8809 - val_loss: 0.2790 - val_accuracy: 0.8968\n",
      "Epoch 4/20\n",
      "750/750 [==============================] - 20s 27ms/step - loss: 0.2963 - accuracy: 0.8914 - val_loss: 0.2653 - val_accuracy: 0.9026\n",
      "Epoch 5/20\n",
      "750/750 [==============================] - 19s 26ms/step - loss: 0.2805 - accuracy: 0.8950 - val_loss: 0.2474 - val_accuracy: 0.9105\n",
      "Epoch 6/20\n",
      "750/750 [==============================] - 20s 26ms/step - loss: 0.2675 - accuracy: 0.8999 - val_loss: 0.2423 - val_accuracy: 0.9086\n",
      "Epoch 7/20\n",
      "750/750 [==============================] - 20s 27ms/step - loss: 0.2562 - accuracy: 0.9045 - val_loss: 0.2399 - val_accuracy: 0.9122\n",
      "Epoch 8/20\n",
      "750/750 [==============================] - 21s 28ms/step - loss: 0.2459 - accuracy: 0.9078 - val_loss: 0.2417 - val_accuracy: 0.9136\n",
      "Epoch 9/20\n",
      "750/750 [==============================] - 20s 27ms/step - loss: 0.2423 - accuracy: 0.9086 - val_loss: 0.2373 - val_accuracy: 0.9161\n",
      "Epoch 10/20\n",
      "750/750 [==============================] - 20s 27ms/step - loss: 0.2354 - accuracy: 0.9120 - val_loss: 0.2261 - val_accuracy: 0.9162\n",
      "Epoch 11/20\n",
      "750/750 [==============================] - 22s 29ms/step - loss: 0.2286 - accuracy: 0.9140 - val_loss: 0.2208 - val_accuracy: 0.9179\n",
      "Epoch 12/20\n",
      "750/750 [==============================] - 22s 29ms/step - loss: 0.2211 - accuracy: 0.9171 - val_loss: 0.2407 - val_accuracy: 0.9112\n",
      "Epoch 13/20\n",
      "750/750 [==============================] - 22s 29ms/step - loss: 0.2198 - accuracy: 0.9171 - val_loss: 0.2115 - val_accuracy: 0.9231\n",
      "Epoch 14/20\n",
      "750/750 [==============================] - 22s 30ms/step - loss: 0.2155 - accuracy: 0.9180 - val_loss: 0.2127 - val_accuracy: 0.9213\n",
      "Epoch 15/20\n",
      "750/750 [==============================] - 21s 28ms/step - loss: 0.2158 - accuracy: 0.9190 - val_loss: 0.2124 - val_accuracy: 0.9217\n",
      "Epoch 16/20\n",
      "750/750 [==============================] - 22s 29ms/step - loss: 0.2090 - accuracy: 0.9211 - val_loss: 0.2100 - val_accuracy: 0.9237\n",
      "Epoch 17/20\n",
      "750/750 [==============================] - 21s 27ms/step - loss: 0.2051 - accuracy: 0.9218 - val_loss: 0.2158 - val_accuracy: 0.9243\n",
      "Epoch 18/20\n",
      "750/750 [==============================] - 19s 26ms/step - loss: 0.2038 - accuracy: 0.9224 - val_loss: 0.2219 - val_accuracy: 0.9191\n",
      "Epoch 19/20\n",
      "750/750 [==============================] - 20s 27ms/step - loss: 0.2014 - accuracy: 0.9234 - val_loss: 0.2092 - val_accuracy: 0.9255\n",
      "Epoch 20/20\n",
      "750/750 [==============================] - 21s 27ms/step - loss: 0.1970 - accuracy: 0.9251 - val_loss: 0.2069 - val_accuracy: 0.9273\n"
     ]
    }
   ],
   "source": [
    "fashion_train_dropout = fashion_model.fit(train_X, train_label, batch_size=batch_size,epochs=epochs,verbose=1,validation_data=(valid_X, valid_label))\n"
   ]
  },
  {
   "cell_type": "code",
   "execution_count": 35,
   "id": "0005e8b7",
   "metadata": {},
   "outputs": [
    {
     "name": "stdout",
     "output_type": "stream",
     "text": [
      "INFO:tensorflow:Assets written to: fashion_model_dropout.h5py\\assets\n"
     ]
    }
   ],
   "source": [
    "# Saving the model\n",
    "\n",
    "fashion_model.save(\"fashion_model_dropout.h5py\")\n"
   ]
  },
  {
   "cell_type": "code",
   "execution_count": 36,
   "id": "f09530e5",
   "metadata": {},
   "outputs": [
    {
     "name": "stdout",
     "output_type": "stream",
     "text": [
      "313/313 [==============================] - 1s 4ms/step - loss: 0.2176 - accuracy: 0.9212\n"
     ]
    }
   ],
   "source": [
    "# Model evaluation\n",
    "test_eval = fashion_model.evaluate(test_X, test_Y_one_hot, verbose=1)\n"
   ]
  },
  {
   "cell_type": "code",
   "execution_count": 37,
   "id": "9a297e87",
   "metadata": {},
   "outputs": [
    {
     "name": "stdout",
     "output_type": "stream",
     "text": [
      "Test loss: 0.217627614736557\n",
      "Test accuracy: 0.9211999773979187\n"
     ]
    }
   ],
   "source": [
    "print('Test loss:', test_eval[0])\n",
    "print('Test accuracy:', test_eval[1])\n"
   ]
  },
  {
   "cell_type": "code",
   "execution_count": null,
   "id": "b833402f",
   "metadata": {},
   "outputs": [],
   "source": []
  },
  {
   "cell_type": "code",
   "execution_count": 38,
   "id": "42b941ab",
   "metadata": {},
   "outputs": [
    {
     "data": {
      "image/png": "[encoded data removed]",
      "text/plain": [
       "<Figure size 432x288 with 1 Axes>"
      ]
     },
     "metadata": {
      "needs_background": "light"
     },
     "output_type": "display_data"
    },
    {
     "data": {
      "image/png": "[encoded data removed]",
      "text/plain": [
       "<Figure size 432x288 with 1 Axes>"
      ]
     },
     "metadata": {
      "needs_background": "light"
     },
     "output_type": "display_data"
    }
   ],
   "source": [
    "# Plotting curves of performance\n",
    "accuracy = fashion_train_dropout.history['accuracy']\n",
    "val_accuracy = fashion_train_dropout.history['val_accuracy']\n",
    "loss = fashion_train_dropout.history['loss']\n",
    "val_loss = fashion_train_dropout.history['val_loss']\n",
    "epochs = range(len(accuracy))\n",
    "plt.plot(epochs, accuracy, 'bo', label='Training accuracy')\n",
    "plt.plot(epochs, val_accuracy, 'b', label='Validation accuracy')\n",
    "plt.title('Training and validation accuracy')\n",
    "plt.legend()\n",
    "plt.figure()\n",
    "plt.plot(epochs, loss, 'bo', label='Training loss')\n",
    "plt.plot(epochs, val_loss, 'b', label='Validation loss')\n",
    "plt.title('Training and validation loss')\n",
    "plt.legend()\n",
    "plt.show()\n"
   ]
  },
  {
   "cell_type": "code",
   "execution_count": null,
   "id": "c91d790f",
   "metadata": {},
   "outputs": [],
   "source": [
    "# Clearly better performance than before"
   ]
  },
  {
   "cell_type": "code",
   "execution_count": 39,
   "id": "da4b9e9d",
   "metadata": {},
   "outputs": [],
   "source": [
    "# prediction of labels\n",
    "predicted_classes = fashion_model.predict(test_X)\n"
   ]
  },
  {
   "cell_type": "code",
   "execution_count": 40,
   "id": "93ed284d",
   "metadata": {},
   "outputs": [],
   "source": [
    "predicted_classes = np.argmax(np.round(predicted_classes),axis=1)\n"
   ]
  },
  {
   "cell_type": "code",
   "execution_count": 41,
   "id": "85cc0561",
   "metadata": {},
   "outputs": [
    {
     "data": {
      "text/plain": [
       "((10000,), (10000,))"
      ]
     },
     "execution_count": 41,
     "metadata": {},
     "output_type": "execute_result"
    }
   ],
   "source": [
    "predicted_classes.shape, test_Y.shape\n"
   ]
  },
  {
   "cell_type": "code",
   "execution_count": 43,
   "id": "f9d78dc5",
   "metadata": {},
   "outputs": [
    {
     "name": "stdout",
     "output_type": "stream",
     "text": [
      "Found 9192 correct labels\n"
     ]
    },
    {
     "data": {
      "image/png": "[encoded data removed]",
      "text/plain": [
       "<Figure size 432x288 with 8 Axes>"
      ]
     },
     "metadata": {
      "needs_background": "light"
     },
     "output_type": "display_data"
    }
   ],
   "source": [
    "# correct classified\n",
    "correct = np.where(predicted_classes==test_Y)[0]\n",
    "print(\"Found %d correct labels\" % len(correct))\n",
    "for i, correct in enumerate(correct[:9]):\n",
    "    plt.subplot(3,3,i+1)\n",
    "    plt.imshow(test_X[correct].reshape(28,28), cmap='gray', interpolation='none')\n",
    "    plt.title(\"Predicted {}, Class {}\".format(predicted_classes[correct], test_Y[correct]))\n",
    "    plt.tight_layout()\n"
   ]
  },
  {
   "cell_type": "code",
   "execution_count": 44,
   "id": "ae1bfcea",
   "metadata": {},
   "outputs": [
    {
     "name": "stdout",
     "output_type": "stream",
     "text": [
      "Found 808 incorrect labels\n"
     ]
    },
    {
     "data": {
      "image/png": "[encoded data removed]",
      "text/plain": [
       "<Figure size 432x288 with 8 Axes>"
      ]
     },
     "metadata": {
      "needs_background": "light"
     },
     "output_type": "display_data"
    }
   ],
   "source": [
    "# incorrect classified\n",
    "\n",
    "incorrect = np.where(predicted_classes!=test_Y)[0]\n",
    "print(\"Found %d incorrect labels\" % len(incorrect))\n",
    "for i, incorrect in enumerate(incorrect[:9]):\n",
    "    plt.subplot(3,3,i+1)\n",
    "    plt.imshow(test_X[incorrect].reshape(28,28), cmap='gray', interpolation='none')\n",
    "    plt.title(\"Predicted {}, Class {}\".format(predicted_classes[incorrect], test_Y[incorrect]))\n",
    "    plt.tight_layout()\n"
   ]
  },
  {
   "cell_type": "code",
   "execution_count": 45,
   "id": "946c8984",
   "metadata": {},
   "outputs": [
    {
     "name": "stdout",
     "output_type": "stream",
     "text": [
      "              precision    recall  f1-score   support\n",
      "\n",
      "     Class 0       0.82      0.85      0.84      1000\n",
      "     Class 1       0.99      0.99      0.99      1000\n",
      "     Class 2       0.90      0.87      0.88      1000\n",
      "     Class 3       0.92      0.93      0.92      1000\n",
      "     Class 4       0.88      0.87      0.88      1000\n",
      "     Class 5       0.99      0.98      0.99      1000\n",
      "     Class 6       0.76      0.78      0.77      1000\n",
      "     Class 7       0.96      0.98      0.97      1000\n",
      "     Class 8       0.99      0.98      0.99      1000\n",
      "     Class 9       0.97      0.97      0.97      1000\n",
      "\n",
      "    accuracy                           0.92     10000\n",
      "   macro avg       0.92      0.92      0.92     10000\n",
      "weighted avg       0.92      0.92      0.92     10000\n",
      "\n"
     ]
    }
   ],
   "source": [
    "# Analyzing worse product classified. It seems clas 6\n",
    "from sklearn.metrics import classification_report\n",
    "target_names = [\"Class {}\".format(i) for i in range(num_classes)]\n",
    "print(classification_report(test_Y, predicted_classes, target_names=target_names))\n"
   ]
  },
  {
   "cell_type": "code",
   "execution_count": null,
   "id": "30776a87",
   "metadata": {},
   "outputs": [],
   "source": []
  }
 ],
 "metadata": {
  "kernelspec": {
   "display_name": "Python 3",
   "language": "python",
   "name": "python3"
  },
  "language_info": {
   "codemirror_mode": {
    "name": "ipython",
    "version": 3
   },
   "file_extension": ".py",
   "mimetype": "text/x-python",
   "name": "python",
   "nbconvert_exporter": "python",
   "pygments_lexer": "ipython3",
   "version": "3.8.8"
  }
 },
 "nbformat": 4,
 "nbformat_minor": 5
}
