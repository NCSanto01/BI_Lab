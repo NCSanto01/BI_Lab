{
 "cells": [
  {
   "cell_type": "code",
   "execution_count": 1,
   "id": "4d1e9cc0",
   "metadata": {},
   "outputs": [],
   "source": [
    "from random import choice\n",
    "from experta import *\n"
   ]
  },
  {
   "cell_type": "code",
   "execution_count": 2,
   "id": "f62e511b",
   "metadata": {},
   "outputs": [],
   "source": [
    "class Light(Fact):\n",
    "    \"\"\"Info about the traffic light.\"\"\"\n",
    "    pass"
   ]
  },
  {
   "cell_type": "code",
   "execution_count": 3,
   "id": "48bb9c1e",
   "metadata": {},
   "outputs": [],
   "source": [
    "class RobotCrossStreet(KnowledgeEngine):\n",
    "    @Rule(Light(color='green'))\n",
    "    def green_light(self):\n",
    "        print(\"Walk\")\n",
    "\n",
    "    @Rule(Light(color='red'))\n",
    "    def red_light(self):\n",
    "        print(\"Don't walk\")\n",
    "\n",
    "    @Rule(AS.light << Light(color=L('yellow') | L('blinking-yellow')))\n",
    "    def cautious(self, light):\n",
    "        print(\"Be cautious because light is\", light[\"color\"])"
   ]
  },
  {
   "cell_type": "code",
   "execution_count": 4,
   "id": "a3920843",
   "metadata": {},
   "outputs": [],
   "source": [
    "engine = RobotCrossStreet()"
   ]
  },
  {
   "cell_type": "code",
   "execution_count": 5,
   "id": "831fa42c",
   "metadata": {},
   "outputs": [],
   "source": [
    "engine.reset()"
   ]
  },
  {
   "cell_type": "code",
   "execution_count": 6,
   "id": "3aa65a19",
   "metadata": {},
   "outputs": [
    {
     "data": {
      "text/plain": [
       "Light(color='blinking-yellow')"
      ]
     },
     "execution_count": 6,
     "metadata": {},
     "output_type": "execute_result"
    }
   ],
   "source": [
    "engine.declare(Light(color=choice(['green', 'yellow', 'blinking-yellow', 'red'])))"
   ]
  },
  {
   "cell_type": "code",
   "execution_count": 7,
   "id": "0cc20016",
   "metadata": {},
   "outputs": [
    {
     "name": "stdout",
     "output_type": "stream",
     "text": [
      "Be cautious because light is blinking-yellow\n"
     ]
    }
   ],
   "source": [
    "engine.run()"
   ]
  },
  {
   "cell_type": "code",
   "execution_count": 8,
   "id": "9d3a673e",
   "metadata": {},
   "outputs": [
    {
     "data": {
      "text/plain": [
       "Light(color='yellow')"
      ]
     },
     "execution_count": 8,
     "metadata": {},
     "output_type": "execute_result"
    }
   ],
   "source": [
    "engine.declare(Light(color=choice(['green', 'yellow', 'blinking-yellow', 'red'])))"
   ]
  },
  {
   "cell_type": "code",
   "execution_count": 10,
   "id": "62d25fa6",
   "metadata": {},
   "outputs": [],
   "source": [
    "engine.declare(Light(color=choice(['green', 'yellow', 'blinking-yellow', 'red'])))"
   ]
  },
  {
   "cell_type": "code",
   "execution_count": 11,
   "id": "e753ebca",
   "metadata": {},
   "outputs": [
    {
     "name": "stdout",
     "output_type": "stream",
     "text": [
      "Be cautious because light is yellow\n"
     ]
    }
   ],
   "source": [
    "engine.run()"
   ]
  },
  {
   "cell_type": "code",
   "execution_count": 12,
   "id": "c458c54f",
   "metadata": {},
   "outputs": [],
   "source": [
    "engine.declare(Light(color=choice(['green', 'yellow', 'blinking-yellow', 'red'])))"
   ]
  },
  {
   "cell_type": "code",
   "execution_count": 13,
   "id": "16b2dd52",
   "metadata": {},
   "outputs": [],
   "source": [
    "engine.run()"
   ]
  },
  {
   "cell_type": "code",
   "execution_count": 14,
   "id": "d382428c",
   "metadata": {},
   "outputs": [],
   "source": [
    "engine.reset()"
   ]
  },
  {
   "cell_type": "code",
   "execution_count": 17,
   "id": "a062c49c",
   "metadata": {},
   "outputs": [
    {
     "data": {
      "text/plain": [
       "Light(color='blinking-yellow')"
      ]
     },
     "execution_count": 17,
     "metadata": {},
     "output_type": "execute_result"
    }
   ],
   "source": [
    "engine.declare(Light(color=choice(['green', 'yellow', 'blinking-yellow', 'red'])))"
   ]
  },
  {
   "cell_type": "code",
   "execution_count": 18,
   "id": "84cf2b58",
   "metadata": {},
   "outputs": [],
   "source": [
    "engine.declare(Light(color=choice(['green', 'yellow', 'blinking-yellow', 'red'])))"
   ]
  },
  {
   "cell_type": "code",
   "execution_count": 19,
   "id": "5c1fe6d1",
   "metadata": {},
   "outputs": [
    {
     "name": "stdout",
     "output_type": "stream",
     "text": [
      "Be cautious because light is blinking-yellow\n"
     ]
    }
   ],
   "source": [
    "engine.run()"
   ]
  },
  {
   "cell_type": "code",
   "execution_count": null,
   "id": "fe6c2cd8",
   "metadata": {},
   "outputs": [],
   "source": []
  }
 ],
 "metadata": {
  "kernelspec": {
   "display_name": "Python 3",
   "language": "python",
   "name": "python3"
  },
  "language_info": {
   "codemirror_mode": {
    "name": "ipython",
    "version": 3
   },
   "file_extension": ".py",
   "mimetype": "text/x-python",
   "name": "python",
   "nbconvert_exporter": "python",
   "pygments_lexer": "ipython3",
   "version": "3.8.8"
  }
 },
 "nbformat": 4,
 "nbformat_minor": 5
}
