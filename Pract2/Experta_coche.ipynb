{
 "cells": [
  {
   "cell_type": "code",
   "execution_count": 9,
   "id": "4d1e9cc0",
   "metadata": {},
   "outputs": [],
   "source": [
    "from random import choice\n",
    "from experta import KnowledgeEngine, DefFacts, Rule, Fact, engine, AND\n"
   ]
  },
  {
   "cell_type": "code",
   "execution_count": 10,
   "id": "b9bd4682",
   "metadata": {},
   "outputs": [],
   "source": [
    "class coche(KnowledgeEngine):\n",
    "    @DefFacts()\n",
    "    def hechos_iniciales(self):      \n",
    "        yield Fact(motor=\"no arranca\")\n",
    "        yield Fact(luces=\"no se encienden\")\n",
    "\n",
    "    @Rule(Fact(motor=\"no arranca\"))\n",
    "    def Regla1a(self):\n",
    "        engine.declare(Fact(problema=\"electrico\"))\n",
    "  \n",
    "    @Rule(Fact(luces=\"no se encienden\"))\n",
    "    def Regla1b(self):\n",
    "        engine.declare(Fact(problema=\"electrico\"))\n",
    "        \n",
    "\n",
    "    @Rule(Fact(motor=\"no arranca\"))\n",
    "    def Regla2(self):\n",
    "        engine.declare(Fact(problema=\"combustion\"))\n",
    "          \n",
    "    @Rule(Fact(luces=\"no se encienden\"))\n",
    "    def Regla3(self):\n",
    "        engine.declare(Fact(problema=\"Bateria en mal estado\"))\n",
    "        \n",
    "    @Rule(\n",
    "        AND(Fact(problema=\"Bateria en mal estado\"),\n",
    "          Fact(problema=\"combustion\")\n",
    "            )\n",
    "    )\n",
    "    def Regla4(self):\n",
    "        engine.declare(Fact(revisar=\"en taller\"))\n",
    "        \n",
    "    @Rule(Fact(problema=\"electrico\"))\n",
    "    def Regla5(self):\n",
    "        engine.declare(Fact(revisar=\"en taller\"))\n",
    "        \n",
    "        "
   ]
  },
  {
   "cell_type": "code",
   "execution_count": 11,
   "id": "88c5764d",
   "metadata": {},
   "outputs": [],
   "source": [
    "engine = coche()\n",
    "engine.reset()  # Prepare the engine for the execution.\n",
    "engine.agenda\n",
    "engine.run()  # Run it!"
   ]
  },
  {
   "cell_type": "code",
   "execution_count": 12,
   "id": "0d7b8994",
   "metadata": {},
   "outputs": [
    {
     "data": {
      "text/plain": [
       "FactList([(0, InitialFact()),\n",
       "          (1, Fact(motor='no arranca')),\n",
       "          (2, Fact(luces='no se encienden')),\n",
       "          (3, Fact(problema='Bateria en mal estado')),\n",
       "          (4, Fact(problema='electrico')),\n",
       "          (5, Fact(revisar='en taller')),\n",
       "          (6, Fact(problema='combustion'))])"
      ]
     },
     "execution_count": 12,
     "metadata": {},
     "output_type": "execute_result"
    }
   ],
   "source": [
    "engine.facts"
   ]
  },
  {
   "cell_type": "code",
   "execution_count": 13,
   "id": "bfa2dd7d",
   "metadata": {},
   "outputs": [],
   "source": [
    "engine.reset()  # Prepare the engine for the execution step by step"
   ]
  },
  {
   "cell_type": "code",
   "execution_count": 14,
   "id": "dd7152c5",
   "metadata": {},
   "outputs": [
    {
     "data": {
      "text/plain": [
       "FactList([(0, InitialFact()),\n",
       "          (1, Fact(motor='no arranca')),\n",
       "          (2, Fact(luces='no se encienden'))])"
      ]
     },
     "execution_count": 14,
     "metadata": {},
     "output_type": "execute_result"
    }
   ],
   "source": [
    "engine.facts"
   ]
  },
  {
   "cell_type": "code",
   "execution_count": 15,
   "id": "ca12cbc7",
   "metadata": {},
   "outputs": [
    {
     "data": {
      "text/plain": [
       "0: Regla1a {Fact(motor='no arranca')}\n",
       "1: Regla2 {Fact(motor='no arranca')}\n",
       "2: Regla1b {Fact(luces='no se encienden')}\n",
       "3: Regla3 {Fact(luces='no se encienden')}"
      ]
     },
     "execution_count": 15,
     "metadata": {},
     "output_type": "execute_result"
    }
   ],
   "source": [
    "engine.agenda"
   ]
  },
  {
   "cell_type": "code",
   "execution_count": 16,
   "id": "57fe895f",
   "metadata": {},
   "outputs": [],
   "source": [
    "engine.run(1)  # Run it!"
   ]
  },
  {
   "cell_type": "code",
   "execution_count": 17,
   "id": "ac30d3f9",
   "metadata": {},
   "outputs": [
    {
     "data": {
      "text/plain": [
       "FactList([(0, InitialFact()),\n",
       "          (1, Fact(motor='no arranca')),\n",
       "          (2, Fact(luces='no se encienden')),\n",
       "          (3, Fact(problema='Bateria en mal estado'))])"
      ]
     },
     "execution_count": 17,
     "metadata": {},
     "output_type": "execute_result"
    }
   ],
   "source": [
    "engine.facts"
   ]
  },
  {
   "cell_type": "code",
   "execution_count": 18,
   "id": "e9777579",
   "metadata": {},
   "outputs": [
    {
     "data": {
      "text/plain": [
       "0: Regla1a {Fact(motor='no arranca')}\n",
       "1: Regla2 {Fact(motor='no arranca')}\n",
       "2: Regla1b {Fact(luces='no se encienden')}"
      ]
     },
     "execution_count": 18,
     "metadata": {},
     "output_type": "execute_result"
    }
   ],
   "source": [
    "engine.agenda"
   ]
  },
  {
   "cell_type": "code",
   "execution_count": 19,
   "id": "30199f1e",
   "metadata": {},
   "outputs": [],
   "source": [
    "engine.run(1)  # Run it!"
   ]
  },
  {
   "cell_type": "code",
   "execution_count": 20,
   "id": "ae7fa71e",
   "metadata": {},
   "outputs": [
    {
     "data": {
      "text/plain": [
       "FactList([(0, InitialFact()),\n",
       "          (1, Fact(motor='no arranca')),\n",
       "          (2, Fact(luces='no se encienden')),\n",
       "          (3, Fact(problema='Bateria en mal estado')),\n",
       "          (4, Fact(problema='electrico'))])"
      ]
     },
     "execution_count": 20,
     "metadata": {},
     "output_type": "execute_result"
    }
   ],
   "source": [
    "engine.facts"
   ]
  },
  {
   "cell_type": "code",
   "execution_count": 21,
   "id": "37b47751",
   "metadata": {},
   "outputs": [
    {
     "data": {
      "text/plain": [
       "0: Regla1a {Fact(motor='no arranca')}\n",
       "1: Regla2 {Fact(motor='no arranca')}"
      ]
     },
     "execution_count": 21,
     "metadata": {},
     "output_type": "execute_result"
    }
   ],
   "source": [
    "engine.agenda"
   ]
  },
  {
   "cell_type": "code",
   "execution_count": 22,
   "id": "d4b51d63",
   "metadata": {},
   "outputs": [],
   "source": [
    "engine.run(1)  # Run it!"
   ]
  },
  {
   "cell_type": "code",
   "execution_count": 23,
   "id": "8f806c36",
   "metadata": {},
   "outputs": [
    {
     "data": {
      "text/plain": [
       "FactList([(0, InitialFact()),\n",
       "          (1, Fact(motor='no arranca')),\n",
       "          (2, Fact(luces='no se encienden')),\n",
       "          (3, Fact(problema='Bateria en mal estado')),\n",
       "          (4, Fact(problema='electrico')),\n",
       "          (5, Fact(revisar='en taller'))])"
      ]
     },
     "execution_count": 23,
     "metadata": {},
     "output_type": "execute_result"
    }
   ],
   "source": [
    "engine.facts"
   ]
  },
  {
   "cell_type": "code",
   "execution_count": 24,
   "id": "ce315e13",
   "metadata": {},
   "outputs": [
    {
     "data": {
      "text/plain": [
       "0: Regla1a {Fact(motor='no arranca')}\n",
       "1: Regla2 {Fact(motor='no arranca')}"
      ]
     },
     "execution_count": 24,
     "metadata": {},
     "output_type": "execute_result"
    }
   ],
   "source": [
    "engine.agenda"
   ]
  },
  {
   "cell_type": "code",
   "execution_count": 25,
   "id": "0991225c",
   "metadata": {},
   "outputs": [],
   "source": [
    "engine.run(1)  # Run it!"
   ]
  },
  {
   "cell_type": "code",
   "execution_count": 26,
   "id": "37737e0e",
   "metadata": {},
   "outputs": [
    {
     "data": {
      "text/plain": [
       "FactList([(0, InitialFact()),\n",
       "          (1, Fact(motor='no arranca')),\n",
       "          (2, Fact(luces='no se encienden')),\n",
       "          (3, Fact(problema='Bateria en mal estado')),\n",
       "          (4, Fact(problema='electrico')),\n",
       "          (5, Fact(revisar='en taller')),\n",
       "          (6, Fact(problema='combustion'))])"
      ]
     },
     "execution_count": 26,
     "metadata": {},
     "output_type": "execute_result"
    }
   ],
   "source": [
    "engine.facts"
   ]
  },
  {
   "cell_type": "code",
   "execution_count": 27,
   "id": "119e8a14",
   "metadata": {},
   "outputs": [
    {
     "data": {
      "text/plain": [
       "0: Regla1a {Fact(motor='no arranca')}"
      ]
     },
     "execution_count": 27,
     "metadata": {},
     "output_type": "execute_result"
    }
   ],
   "source": [
    "engine.agenda"
   ]
  },
  {
   "cell_type": "code",
   "execution_count": 28,
   "id": "9595f414",
   "metadata": {},
   "outputs": [],
   "source": [
    "engine.run(1)  # Run it"
   ]
  },
  {
   "cell_type": "code",
   "execution_count": 29,
   "id": "26971297",
   "metadata": {},
   "outputs": [
    {
     "data": {
      "text/plain": [
       "FactList([(0, InitialFact()),\n",
       "          (1, Fact(motor='no arranca')),\n",
       "          (2, Fact(luces='no se encienden')),\n",
       "          (3, Fact(problema='Bateria en mal estado')),\n",
       "          (4, Fact(problema='electrico')),\n",
       "          (5, Fact(revisar='en taller')),\n",
       "          (6, Fact(problema='combustion'))])"
      ]
     },
     "execution_count": 29,
     "metadata": {},
     "output_type": "execute_result"
    }
   ],
   "source": [
    "engine.facts"
   ]
  },
  {
   "cell_type": "code",
   "execution_count": 30,
   "id": "83d1196e",
   "metadata": {},
   "outputs": [
    {
     "data": {
      "text/plain": [
       "0: Regla1a {Fact(motor='no arranca')}"
      ]
     },
     "execution_count": 30,
     "metadata": {},
     "output_type": "execute_result"
    }
   ],
   "source": [
    "engine.agenda"
   ]
  },
  {
   "cell_type": "code",
   "execution_count": 31,
   "id": "f2ba68a4",
   "metadata": {},
   "outputs": [],
   "source": [
    "engine.run(1)  # Run it"
   ]
  },
  {
   "cell_type": "code",
   "execution_count": 32,
   "id": "d6bbad5a",
   "metadata": {},
   "outputs": [
    {
     "data": {
      "text/plain": [
       "FactList([(0, InitialFact()),\n",
       "          (1, Fact(motor='no arranca')),\n",
       "          (2, Fact(luces='no se encienden')),\n",
       "          (3, Fact(problema='Bateria en mal estado')),\n",
       "          (4, Fact(problema='electrico')),\n",
       "          (5, Fact(revisar='en taller')),\n",
       "          (6, Fact(problema='combustion'))])"
      ]
     },
     "execution_count": 32,
     "metadata": {},
     "output_type": "execute_result"
    }
   ],
   "source": [
    "engine.facts"
   ]
  },
  {
   "cell_type": "code",
   "execution_count": 33,
   "id": "9429cc67",
   "metadata": {},
   "outputs": [
    {
     "data": {
      "text/plain": []
     },
     "execution_count": 33,
     "metadata": {},
     "output_type": "execute_result"
    }
   ],
   "source": [
    "engine.agenda"
   ]
  },
  {
   "cell_type": "code",
   "execution_count": null,
   "id": "9d7e12d1",
   "metadata": {},
   "outputs": [],
   "source": []
  },
  {
   "cell_type": "code",
   "execution_count": null,
   "id": "8877f6e2",
   "metadata": {},
   "outputs": [],
   "source": []
  }
 ],
 "metadata": {
  "kernelspec": {
   "display_name": "Python 3",
   "language": "python",
   "name": "python3"
  },
  "language_info": {
   "codemirror_mode": {
    "name": "ipython",
    "version": 3
   },
   "file_extension": ".py",
   "mimetype": "text/x-python",
   "name": "python",
   "nbconvert_exporter": "python",
   "pygments_lexer": "ipython3",
   "version": "3.11.4"
  }
 },
 "nbformat": 4,
 "nbformat_minor": 5
}
