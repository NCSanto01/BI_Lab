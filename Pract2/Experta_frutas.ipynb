{
 "cells": [
  {
   "cell_type": "code",
   "execution_count": 13,
   "id": "4d1e9cc0",
   "metadata": {},
   "outputs": [],
   "source": [
    "from experta import *\n"
   ]
  },
  {
   "cell_type": "code",
   "execution_count": 2,
   "id": "15eea286",
   "metadata": {},
   "outputs": [],
   "source": [
    "@DefFacts()\n",
    "def Base_hechos_ini():\n",
    "    yield Fact(tipo_fruta= \"de arbol\")\n",
    "    yield Fact(color=\"morado\")\n",
    "    yield Fact(semillas=\"una\")\n",
    "    "
   ]
  },
  {
   "cell_type": "code",
   "execution_count": 14,
   "id": "b9bd4682",
   "metadata": {},
   "outputs": [],
   "source": [
    "class frutas(KnowledgeEngine):\n",
    "\n",
    "    @DefFacts()\n",
    "    def Base_hechos_ini(self):\n",
    "        yield Fact(tipo_fruta= \"de arbol\")\n",
    "        yield Fact(color=\"morado\")\n",
    "        yield Fact(semillas=\"una\")\n",
    "\n",
    "    @Rule(\n",
    "        AND(Fact(forma=\"alargada\"),\n",
    "          Fact(color=\"verde\")\n",
    "            )\n",
    "    )\n",
    "    def Regla1(self):\n",
    "        engine.declare(Fact(fruta=\"banana\"))\n",
    "\n",
    " \n",
    "    @Rule(\n",
    "        AND(Fact(forma=\"alargada\"),\n",
    "          Fact(color=\"amarillo\")\n",
    "            )\n",
    "    )\n",
    "    def Regla2(self):\n",
    "        engine.declare(Fact(fruta=\"banana\"))\n",
    "\n",
    "\n",
    "    @Rule(\n",
    "        AND(Fact(forma=\"redonda\"),\n",
    "          Fact(diametro=\"menor que 4\")\n",
    "            )\n",
    "    )\n",
    "    def Regla3(self):\n",
    "        engine.declare(Fact(fruta=\"pera\"))\n",
    "\n",
    "\n",
    "    @Rule(\n",
    "        AND(Fact(forma=\"redonda\"),\n",
    "          Fact(diametro=\"menor que 4\")\n",
    "            )\n",
    "    )\n",
    "    def Regla4(self):\n",
    "        engine.declare(Fact(fruta=\"pera\"))\n",
    "        \n",
    "    @Rule(\n",
    "        AND(Fact(forma=\"redonda\"),\n",
    "          Fact(diametro=\"mayor que 4\")\n",
    "            )\n",
    "    )\n",
    "    def Regla5(self):\n",
    "        engine.declare(Fact(fruta=\"de arbol\"))        \n",
    "           \n",
    "    \n",
    "    @Rule(Fact(semillas=\"una\"))\n",
    "    def Regla6(self):\n",
    "        engine.declare(Fact(tipo_semillas=\"pepìta\"))    \n",
    "    \n",
    "    \n",
    "    @Rule(Fact(semillas=\"mayor que una\"))\n",
    "    def Regla7(self):\n",
    "        engine.declare(Fact(tipo_semillas=\"multiple\"))       \n",
    "    \n",
    "\n",
    "    @Rule(\n",
    "        AND(Fact(tipo_fruta=\"pera\"),\n",
    "          Fact(color=\"verde\")\n",
    "            )\n",
    "    )\n",
    "    def Regla8(self):\n",
    "        engine.declare(Fact(fruta=\"sandia\"))    \n",
    "    \n",
    " \n",
    "    @Rule(\n",
    "        AND(Fact(tipo_fruta=\"pera\"),\n",
    "            Fact(superficie=\"suave\"),\n",
    "            Fact(color=\"amarillo\")\n",
    "            )\n",
    "    )\n",
    "    def Regla9(self):\n",
    "        engine.declare(Fact(fruta=\"melon\"))  \n",
    "\n",
    "\n",
    "    @Rule(\n",
    "        AND(Fact(tipo_fruta=\"pera\"),\n",
    "            Fact(superficie=\"rugosa\"),\n",
    "            Fact(color=\"verde\")\n",
    "            )\n",
    "    )\n",
    "    def Regla10(self):\n",
    "        engine.declare(Fact(fruta=\"melon\"))\n",
    "        \n",
    "\n",
    "    @Rule(\n",
    "        AND(Fact(tipo_fruta=\"de arbol\"),\n",
    "            Fact(color=\"naranja\"),\n",
    "            Fact(tipo_semilla=\"pepita\")\n",
    "            )\n",
    "    )\n",
    "    def Regla11(self):\n",
    "        engine.declare(Fact(fruta=\"albaricoque\"))\n",
    "        \n",
    "    \n",
    "    @Rule(\n",
    "        AND(Fact(tipo_fruta=\"de arbol\"),\n",
    "            Fact(color=\"naranja\"),\n",
    "            Fact(tipo_semilla=\"multiple\")\n",
    "            )\n",
    "    )\n",
    "    def Regla12(self):\n",
    "        engine.declare(Fact(fruta=\"naranja\"))\n",
    "        \n",
    "\n",
    "    @Rule(\n",
    "        AND(Fact(tipo_fruta=\"de arbol\"),\n",
    "            Fact(color=\"rojo\"),\n",
    "            Fact(tipo_semilla=\"pepita\")\n",
    "            )\n",
    "    )\n",
    "    def Regla13(self):\n",
    "        engine.declare(Fact(fruta=\"cereza\"))\n",
    "        \n",
    "\n",
    " \n",
    "    @Rule(\n",
    "        AND(Fact(tipo_fruta=\"de arbol\"),\n",
    "            Fact(color=\"naranja\"),\n",
    "            Fact(tipo_semilla=\"pepita\")\n",
    "            )\n",
    "    )\n",
    "    def Regla14(self):\n",
    "        engine.declare(Fact(fruta=\"melocoton\"))       \n",
    "        \n",
    "\n",
    " \n",
    "    @Rule(\n",
    "        AND(Fact(tipo_fruta=\"de arbol\"),\n",
    "            Fact(color=\"rojo\"),\n",
    "            Fact(tipo_semilla=\"multiple\")\n",
    "            )\n",
    "    )\n",
    "    def Regla15(self):\n",
    "        engine.declare(Fact(fruta=\"manzana\"))          \n",
    "        \n",
    "        \n",
    "  \n",
    "    @Rule(\n",
    "        AND(Fact(tipo_fruta=\"de arbol\"),\n",
    "            Fact(color=\"verde\"),\n",
    "            Fact(tipo_semilla=\"multiple\")\n",
    "            )\n",
    "    )\n",
    "    def Regla16(self):\n",
    "        engine.declare(Fact(fruta=\"manzana\"))  \n",
    "        \n",
    "\n",
    "    @Rule(\n",
    "        AND(Fact(tipo_fruta=\"de arbol\"),\n",
    "            Fact(color=\"morado\"),\n",
    "            Fact(tipo_semilla=\"pepita\")\n",
    "            )\n",
    "    )\n",
    "    def Regla17(self):\n",
    "        engine.declare(Fact(fruta=\"ciruela\"))  \n",
    "        \n",
    "        \n",
    "    @Rule(Fact(fruta=MATCH.name))\n",
    "    def Regla18(self, name):\n",
    "        print(\"La fruta es %s\" % (name))       "
   ]
  },
  {
   "cell_type": "code",
   "execution_count": 15,
   "id": "88c5764d",
   "metadata": {},
   "outputs": [],
   "source": [
    "engine = frutas()\n",
    "engine.reset()  # Prepare the engine for the execution.\n",
    "engine.agenda\n",
    "engine.run()  # Run it!"
   ]
  },
  {
   "cell_type": "code",
   "execution_count": 16,
   "id": "0d7b8994",
   "metadata": {},
   "outputs": [
    {
     "data": {
      "text/plain": [
       "FactList([(0, InitialFact()),\n",
       "          (1, Fact(tipo_fruta='de arbol')),\n",
       "          (2, Fact(color='morado')),\n",
       "          (3, Fact(semillas='una')),\n",
       "          (4, Fact(tipo_semillas='pepìta'))])"
      ]
     },
     "execution_count": 16,
     "metadata": {},
     "output_type": "execute_result"
    }
   ],
   "source": [
    "engine.facts"
   ]
  },
  {
   "cell_type": "code",
   "execution_count": 17,
   "id": "bfa2dd7d",
   "metadata": {},
   "outputs": [],
   "source": [
    "engine.reset()  # Prepare the engine for the execution step by step"
   ]
  },
  {
   "cell_type": "code",
   "execution_count": 18,
   "id": "dd7152c5",
   "metadata": {},
   "outputs": [
    {
     "data": {
      "text/plain": [
       "FactList([(0, InitialFact()),\n",
       "          (1, Fact(tipo_fruta='de arbol')),\n",
       "          (2, Fact(color='morado')),\n",
       "          (3, Fact(semillas='una'))])"
      ]
     },
     "execution_count": 18,
     "metadata": {},
     "output_type": "execute_result"
    }
   ],
   "source": [
    "engine.facts"
   ]
  },
  {
   "cell_type": "code",
   "execution_count": 19,
   "id": "ca12cbc7",
   "metadata": {},
   "outputs": [
    {
     "data": {
      "text/plain": [
       "0: Regla6 {Fact(semillas='una')}"
      ]
     },
     "execution_count": 19,
     "metadata": {},
     "output_type": "execute_result"
    }
   ],
   "source": [
    "engine.agenda"
   ]
  },
  {
   "cell_type": "code",
   "execution_count": 20,
   "id": "57fe895f",
   "metadata": {},
   "outputs": [],
   "source": [
    "engine.run(1)  # Run it!"
   ]
  },
  {
   "cell_type": "code",
   "execution_count": 21,
   "id": "ac30d3f9",
   "metadata": {},
   "outputs": [
    {
     "data": {
      "text/plain": [
       "FactList([(0, InitialFact()),\n",
       "          (1, Fact(tipo_fruta='de arbol')),\n",
       "          (2, Fact(color='morado')),\n",
       "          (3, Fact(semillas='una')),\n",
       "          (4, Fact(tipo_semillas='pepìta'))])"
      ]
     },
     "execution_count": 21,
     "metadata": {},
     "output_type": "execute_result"
    }
   ],
   "source": [
    "engine.facts"
   ]
  },
  {
   "cell_type": "code",
   "execution_count": 22,
   "id": "e9777579",
   "metadata": {},
   "outputs": [
    {
     "data": {
      "text/plain": []
     },
     "execution_count": 22,
     "metadata": {},
     "output_type": "execute_result"
    }
   ],
   "source": [
    "engine.agenda"
   ]
  },
  {
   "cell_type": "code",
   "execution_count": 23,
   "id": "30199f1e",
   "metadata": {},
   "outputs": [],
   "source": [
    "engine.run(1)  # Run it!"
   ]
  },
  {
   "cell_type": "code",
   "execution_count": 24,
   "id": "ae7fa71e",
   "metadata": {},
   "outputs": [
    {
     "data": {
      "text/plain": [
       "FactList([(0, InitialFact()),\n",
       "          (1, Fact(tipo_fruta='de arbol')),\n",
       "          (2, Fact(color='morado')),\n",
       "          (3, Fact(semillas='una')),\n",
       "          (4, Fact(tipo_semillas='pepìta'))])"
      ]
     },
     "execution_count": 24,
     "metadata": {},
     "output_type": "execute_result"
    }
   ],
   "source": [
    "engine.facts"
   ]
  },
  {
   "cell_type": "code",
   "execution_count": null,
   "id": "9d7e12d1",
   "metadata": {},
   "outputs": [],
   "source": []
  },
  {
   "cell_type": "code",
   "execution_count": null,
   "id": "8877f6e2",
   "metadata": {},
   "outputs": [],
   "source": []
  }
 ],
 "metadata": {
  "kernelspec": {
   "display_name": "Python 3",
   "language": "python",
   "name": "python3"
  },
  "language_info": {
   "codemirror_mode": {
    "name": "ipython",
    "version": 3
   },
   "file_extension": ".py",
   "mimetype": "text/x-python",
   "name": "python",
   "nbconvert_exporter": "python",
   "pygments_lexer": "ipython3",
   "version": "3.8.8"
  }
 },
 "nbformat": 4,
 "nbformat_minor": 5
}
